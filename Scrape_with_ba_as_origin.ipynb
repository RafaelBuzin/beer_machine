{
 "cells": [
  {
   "cell_type": "code",
   "execution_count": 23,
   "metadata": {
    "collapsed": true
   },
   "outputs": [],
   "source": [
    "import pandas as pd\n",
    "from fuzzywuzzy import process, fuzz"
   ]
  },
  {
   "cell_type": "code",
   "execution_count": 15,
   "metadata": {},
   "outputs": [
    {
     "data": {
      "text/html": [
       "<div>\n",
       "<table border=\"1\" class=\"dataframe\">\n",
       "  <thead>\n",
       "    <tr style=\"text-align: right;\">\n",
       "      <th></th>\n",
       "      <th>Craft Brewer Name</th>\n",
       "      <th>State</th>\n",
       "      <th>Estimate</th>\n",
       "      <th>2015 Barrels</th>\n",
       "    </tr>\n",
       "  </thead>\n",
       "  <tbody>\n",
       "    <tr>\n",
       "      <th>0</th>\n",
       "      <td>(405) Brewing Co</td>\n",
       "      <td>OK</td>\n",
       "      <td>Y</td>\n",
       "      <td>635</td>\n",
       "    </tr>\n",
       "    <tr>\n",
       "      <th>1</th>\n",
       "      <td>(512) Brewing Co</td>\n",
       "      <td>TX</td>\n",
       "      <td>NaN</td>\n",
       "      <td>11,000</td>\n",
       "    </tr>\n",
       "    <tr>\n",
       "      <th>2</th>\n",
       "      <td>101 Brewery</td>\n",
       "      <td>WA</td>\n",
       "      <td>Y</td>\n",
       "      <td>47</td>\n",
       "    </tr>\n",
       "    <tr>\n",
       "      <th>3</th>\n",
       "      <td>101 North Brewing Company</td>\n",
       "      <td>CA</td>\n",
       "      <td>Y</td>\n",
       "      <td>2,100</td>\n",
       "    </tr>\n",
       "    <tr>\n",
       "      <th>4</th>\n",
       "      <td>10th District Brewing Company</td>\n",
       "      <td>MA</td>\n",
       "      <td>NaN</td>\n",
       "      <td>110</td>\n",
       "    </tr>\n",
       "  </tbody>\n",
       "</table>\n",
       "</div>"
      ],
      "text/plain": [
       "               Craft Brewer Name State Estimate 2015 Barrels\n",
       "0               (405) Brewing Co    OK        Y          635\n",
       "1               (512) Brewing Co    TX      NaN       11,000\n",
       "2                    101 Brewery    WA        Y           47\n",
       "3      101 North Brewing Company    CA        Y        2,100\n",
       "4  10th District Brewing Company    MA      NaN          110"
      ]
     },
     "execution_count": 15,
     "metadata": {},
     "output_type": "execute_result"
    }
   ],
   "source": [
    "ba_filepath = 'data/Assets/Brewers_Association_Data_2015-1-1-1/2015_craft_volume.csv'\n",
    "ba_df = pd.read_csv(ba_filepath, header=1)\n",
    "ba_df.drop('Unnamed: 4', axis=1, inplace=True)\n",
    "ba_df.head()"
   ]
  },
  {
   "cell_type": "code",
   "execution_count": 20,
   "metadata": {},
   "outputs": [
    {
     "data": {
      "text/html": [
       "<div>\n",
       "<table border=\"1\" class=\"dataframe\">\n",
       "  <thead>\n",
       "    <tr style=\"text-align: right;\">\n",
       "      <th></th>\n",
       "      <th>brewery_account_status</th>\n",
       "      <th>brewery_description</th>\n",
       "      <th>brewery_id</th>\n",
       "      <th>brewery_location</th>\n",
       "      <th>brewery_name</th>\n",
       "      <th>brewery_num_beers</th>\n",
       "      <th>brewery_raters</th>\n",
       "      <th>brewery_rating</th>\n",
       "      <th>brewery_type</th>\n",
       "      <th>date_brewery_added</th>\n",
       "      <th>monthly_brewery_checkins</th>\n",
       "      <th>subsidiary_id</th>\n",
       "      <th>subsidiary_name</th>\n",
       "      <th>total_brewery_checkins</th>\n",
       "      <th>unique_brewery_checkins</th>\n",
       "    </tr>\n",
       "  </thead>\n",
       "  <tbody>\n",
       "    <tr>\n",
       "      <th>0</th>\n",
       "      <td>Official</td>\n",
       "      <td>\\n\\t\\t\\t\\t\\t\\t\\tWhere ancient alchemy meets mo...</td>\n",
       "      <td>812</td>\n",
       "      <td>\\n\\t\\t\\t\\t\\t\\t\\t\\tSouth Burlington, VT \\t\\t\\t\\...</td>\n",
       "      <td>Magic Hat Brewing Company</td>\n",
       "      <td>70 Beers</td>\n",
       "      <td>\\n\\t\\t\\t\\t\\t\\t965,599 Ratings\\t\\t\\t\\t\\t</td>\n",
       "      <td>(3.41)</td>\n",
       "      <td>Micro Brewery</td>\n",
       "      <td>\\n\\t\\t\\t\\t\\t\\tAdded 10/03/10\\t\\t\\t\\t\\t</td>\n",
       "      <td>11,376</td>\n",
       "      <td>[195747, 2336]</td>\n",
       "      <td>['Florida Ice and Farm Company S.A.', 'Cervece...</td>\n",
       "      <td>1.46M+</td>\n",
       "      <td>372,439</td>\n",
       "    </tr>\n",
       "    <tr>\n",
       "      <th>1</th>\n",
       "      <td>presumed_unclaimed</td>\n",
       "      <td>\\n\\t\\t\\t\\t\\t\\t\\tAlken-Maes was created out of ...</td>\n",
       "      <td>264</td>\n",
       "      <td>\\n\\t\\t\\t\\t\\t\\t\\t\\tMechelen, Antwerpen \\t\\t\\t\\t...</td>\n",
       "      <td>Brouwerij Alken-Maes</td>\n",
       "      <td>57 Beers</td>\n",
       "      <td>\\n\\t\\t\\t\\t\\t\\t254,798 Ratings\\t\\t\\t\\t\\t</td>\n",
       "      <td>(3.45)</td>\n",
       "      <td>Macro Brewery</td>\n",
       "      <td>\\n\\t\\t\\t\\t\\t\\tAdded 10/12/10\\t\\t\\t\\t\\t</td>\n",
       "      <td>9,581</td>\n",
       "      <td>[1400, 344]</td>\n",
       "      <td>['Heineken', 'Carlsberg Group']</td>\n",
       "      <td>372,388</td>\n",
       "      <td>144,274</td>\n",
       "    </tr>\n",
       "    <tr>\n",
       "      <th>2</th>\n",
       "      <td>Official</td>\n",
       "      <td>\\n\\t\\t\\t\\t\\t\\t\\tColorado brewers of America's ...</td>\n",
       "      <td>779</td>\n",
       "      <td>\\n\\t\\t\\t\\t\\t\\t\\t\\tLongmont, CO \\t\\t\\t\\t\\t\\t\\t\\...</td>\n",
       "      <td>Left Hand Brewing Company</td>\n",
       "      <td>334 Beers</td>\n",
       "      <td>\\n\\t\\t\\t\\t\\t\\t1,066,392 Ratings\\t\\t\\t\\t\\t</td>\n",
       "      <td>(3.74)</td>\n",
       "      <td>Micro Brewery</td>\n",
       "      <td>\\n\\t\\t\\t\\t\\t\\tAdded 10/03/10\\t\\t\\t\\t\\t</td>\n",
       "      <td>25,284</td>\n",
       "      <td>NaN</td>\n",
       "      <td>NaN</td>\n",
       "      <td>1.56M+</td>\n",
       "      <td>458,037</td>\n",
       "    </tr>\n",
       "    <tr>\n",
       "      <th>3</th>\n",
       "      <td>Official</td>\n",
       "      <td>\\n\\t\\t\\t\\t\\t\\t\\tHet Anker continuously strives...</td>\n",
       "      <td>284</td>\n",
       "      <td>\\n\\t\\t\\t\\t\\t\\t\\t\\tMechelen, Antwerpen \\t\\t\\t\\t...</td>\n",
       "      <td>Brouwerij Het Anker</td>\n",
       "      <td>29 Beers</td>\n",
       "      <td>\\n\\t\\t\\t\\t\\t\\t276,020 Ratings\\t\\t\\t\\t\\t</td>\n",
       "      <td>(3.78)</td>\n",
       "      <td>Micro Brewery</td>\n",
       "      <td>\\n\\t\\t\\t\\t\\t\\tAdded 10/08/10\\t\\t\\t\\t\\t</td>\n",
       "      <td>9,938</td>\n",
       "      <td>NaN</td>\n",
       "      <td>NaN</td>\n",
       "      <td>365,984</td>\n",
       "      <td>145,970</td>\n",
       "    </tr>\n",
       "    <tr>\n",
       "      <th>4</th>\n",
       "      <td>presumed_unclaimed</td>\n",
       "      <td>\\n\\t\\t\\t\\t\\t\\t\\tRidgeway Brewing, in South Oxf...</td>\n",
       "      <td>1056</td>\n",
       "      <td>\\n\\t\\t\\t\\t\\t\\t\\t\\t\\t\\t\\t\\t\\t\\t\\t\\tEngland\\t\\t\\...</td>\n",
       "      <td>Ridgeway Brewing</td>\n",
       "      <td>41 Beers</td>\n",
       "      <td>\\n\\t\\t\\t\\t\\t\\t81,883 Ratings\\t\\t\\t\\t\\t</td>\n",
       "      <td>(3.34)</td>\n",
       "      <td>Micro Brewery</td>\n",
       "      <td>\\n\\t\\t\\t\\t\\t\\tAdded 10/11/10\\t\\t\\t\\t\\t</td>\n",
       "      <td>586</td>\n",
       "      <td>NaN</td>\n",
       "      <td>NaN</td>\n",
       "      <td>97,056</td>\n",
       "      <td>54,908</td>\n",
       "    </tr>\n",
       "  </tbody>\n",
       "</table>\n",
       "</div>"
      ],
      "text/plain": [
       "  brewery_account_status                                brewery_description  \\\n",
       "0               Official  \\n\\t\\t\\t\\t\\t\\t\\tWhere ancient alchemy meets mo...   \n",
       "1     presumed_unclaimed  \\n\\t\\t\\t\\t\\t\\t\\tAlken-Maes was created out of ...   \n",
       "2               Official  \\n\\t\\t\\t\\t\\t\\t\\tColorado brewers of America's ...   \n",
       "3               Official  \\n\\t\\t\\t\\t\\t\\t\\tHet Anker continuously strives...   \n",
       "4     presumed_unclaimed  \\n\\t\\t\\t\\t\\t\\t\\tRidgeway Brewing, in South Oxf...   \n",
       "\n",
       "   brewery_id                                   brewery_location  \\\n",
       "0         812  \\n\\t\\t\\t\\t\\t\\t\\t\\tSouth Burlington, VT \\t\\t\\t\\...   \n",
       "1         264  \\n\\t\\t\\t\\t\\t\\t\\t\\tMechelen, Antwerpen \\t\\t\\t\\t...   \n",
       "2         779  \\n\\t\\t\\t\\t\\t\\t\\t\\tLongmont, CO \\t\\t\\t\\t\\t\\t\\t\\...   \n",
       "3         284  \\n\\t\\t\\t\\t\\t\\t\\t\\tMechelen, Antwerpen \\t\\t\\t\\t...   \n",
       "4        1056  \\n\\t\\t\\t\\t\\t\\t\\t\\t\\t\\t\\t\\t\\t\\t\\t\\tEngland\\t\\t\\...   \n",
       "\n",
       "                brewery_name brewery_num_beers  \\\n",
       "0  Magic Hat Brewing Company          70 Beers   \n",
       "1       Brouwerij Alken-Maes          57 Beers   \n",
       "2  Left Hand Brewing Company         334 Beers   \n",
       "3        Brouwerij Het Anker          29 Beers   \n",
       "4           Ridgeway Brewing          41 Beers   \n",
       "\n",
       "                              brewery_raters brewery_rating   brewery_type  \\\n",
       "0    \\n\\t\\t\\t\\t\\t\\t965,599 Ratings\\t\\t\\t\\t\\t         (3.41)  Micro Brewery   \n",
       "1    \\n\\t\\t\\t\\t\\t\\t254,798 Ratings\\t\\t\\t\\t\\t         (3.45)  Macro Brewery   \n",
       "2  \\n\\t\\t\\t\\t\\t\\t1,066,392 Ratings\\t\\t\\t\\t\\t         (3.74)  Micro Brewery   \n",
       "3    \\n\\t\\t\\t\\t\\t\\t276,020 Ratings\\t\\t\\t\\t\\t         (3.78)  Micro Brewery   \n",
       "4     \\n\\t\\t\\t\\t\\t\\t81,883 Ratings\\t\\t\\t\\t\\t         (3.34)  Micro Brewery   \n",
       "\n",
       "                       date_brewery_added monthly_brewery_checkins  \\\n",
       "0  \\n\\t\\t\\t\\t\\t\\tAdded 10/03/10\\t\\t\\t\\t\\t                   11,376   \n",
       "1  \\n\\t\\t\\t\\t\\t\\tAdded 10/12/10\\t\\t\\t\\t\\t                    9,581   \n",
       "2  \\n\\t\\t\\t\\t\\t\\tAdded 10/03/10\\t\\t\\t\\t\\t                   25,284   \n",
       "3  \\n\\t\\t\\t\\t\\t\\tAdded 10/08/10\\t\\t\\t\\t\\t                    9,938   \n",
       "4  \\n\\t\\t\\t\\t\\t\\tAdded 10/11/10\\t\\t\\t\\t\\t                      586   \n",
       "\n",
       "    subsidiary_id                                    subsidiary_name  \\\n",
       "0  [195747, 2336]  ['Florida Ice and Farm Company S.A.', 'Cervece...   \n",
       "1     [1400, 344]                    ['Heineken', 'Carlsberg Group']   \n",
       "2             NaN                                                NaN   \n",
       "3             NaN                                                NaN   \n",
       "4             NaN                                                NaN   \n",
       "\n",
       "  total_brewery_checkins unique_brewery_checkins  \n",
       "0                 1.46M+                 372,439  \n",
       "1                372,388                 144,274  \n",
       "2                 1.56M+                 458,037  \n",
       "3                365,984                 145,970  \n",
       "4                 97,056                  54,908  "
      ]
     },
     "execution_count": 20,
     "metadata": {},
     "output_type": "execute_result"
    }
   ],
   "source": [
    "untappd_filepath = 'data/master_untappd_brewery_data.csv'\n",
    "u_df = pd.read_csv(untappd_filepath)\n",
    "u_df.drop(['Unnamed: 0', 'Unnamed: 0.1'], axis=1, inplace=True)\n",
    "u_df['brewery_name'] = u_df['brewery_name'].apply(lambda x: x.replace('\\n', '').replace('\\t', ''))\n",
    "u_df.head()"
   ]
  },
  {
   "cell_type": "code",
   "execution_count": 13,
   "metadata": {},
   "outputs": [
    {
     "data": {
      "text/plain": [
       "3971"
      ]
     },
     "execution_count": 13,
     "metadata": {},
     "output_type": "execute_result"
    }
   ],
   "source": [
    "len(df['Craft Brewer Name'].values)"
   ]
  },
  {
   "cell_type": "code",
   "execution_count": 26,
   "metadata": {},
   "outputs": [
    {
     "name": "stdout",
     "output_type": "stream",
     "text": [
      "(405) Brewing Co\n",
      "(512) Brewing Co\n",
      "101 Brewery\n",
      "101 North Brewing Company\n",
      "10th District Brewing Company\n",
      "11 Below Brewing Company\n",
      "1188 Brewing Co\n",
      "12 Gates Brewing Company\n",
      "12 String Brewing Co\n",
      "127 Brewing\n"
     ]
    }
   ],
   "source": [
    "id_dict = {}\n",
    "choices = u_df['brewery_name'].values\n",
    "for brewery in ba_df['Craft Brewer Name'][0:10]:\n",
    "    print(brewery, process.extract(brewery, choices))"
   ]
  },
  {
   "cell_type": "code",
   "execution_count": 28,
   "metadata": {},
   "outputs": [
    {
     "data": {
      "text/plain": [
       "('Charles Wells Brewery', 86)"
      ]
     },
     "execution_count": 28,
     "metadata": {},
     "output_type": "execute_result"
    }
   ],
   "source": [
    "process.extractOne('101 Brewery', choices)"
   ]
  },
  {
   "cell_type": "code",
   "execution_count": null,
   "metadata": {
    "collapsed": true
   },
   "outputs": [],
   "source": []
  }
 ],
 "metadata": {
  "kernelspec": {
   "display_name": "Python 3",
   "language": "python",
   "name": "python3"
  },
  "language_info": {
   "codemirror_mode": {
    "name": "ipython",
    "version": 3
   },
   "file_extension": ".py",
   "mimetype": "text/x-python",
   "name": "python",
   "nbconvert_exporter": "python",
   "pygments_lexer": "ipython3",
   "version": "3.6.0"
  }
 },
 "nbformat": 4,
 "nbformat_minor": 2
}
