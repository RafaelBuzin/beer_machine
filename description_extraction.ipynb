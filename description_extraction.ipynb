{
 "cells": [
  {
   "cell_type": "code",
   "execution_count": 2,
   "metadata": {
    "collapsed": true
   },
   "outputs": [],
   "source": [
    "import pandas as pd"
   ]
  },
  {
   "cell_type": "code",
   "execution_count": 3,
   "metadata": {},
   "outputs": [],
   "source": [
    "df = pd.read_csv('data/master_untappd_data.csv')"
   ]
  },
  {
   "cell_type": "code",
   "execution_count": 4,
   "metadata": {},
   "outputs": [
    {
     "name": "stdout",
     "output_type": "stream",
     "text": [
      "<class 'pandas.core.frame.DataFrame'>\n",
      "RangeIndex: 148913 entries, 0 to 148912\n",
      "Data columns (total 16 columns):\n",
      "Unnamed: 0          148913 non-null int64\n",
      "Unnamed: 0.1        148913 non-null int64\n",
      "abv                 148913 non-null object\n",
      "beer_id             148913 non-null int64\n",
      "brewery             148912 non-null object\n",
      "brewery_id          148913 non-null int64\n",
      "date_added          148913 non-null object\n",
      "description         148913 non-null object\n",
      "ibu                 148913 non-null object\n",
      "monthly_checkins    148913 non-null object\n",
      "name                148913 non-null object\n",
      "raters              148913 non-null object\n",
      "rating              102290 non-null object\n",
      "style               123383 non-null object\n",
      "total_checkins      148913 non-null object\n",
      "unique_checkins     148913 non-null object\n",
      "dtypes: int64(4), object(12)\n",
      "memory usage: 18.2+ MB\n"
     ]
    }
   ],
   "source": [
    "df.info()"
   ]
  },
  {
   "cell_type": "code",
   "execution_count": 7,
   "metadata": {},
   "outputs": [
    {
     "data": {
      "text/html": [
       "<div>\n",
       "<table border=\"1\" class=\"dataframe\">\n",
       "  <thead>\n",
       "    <tr style=\"text-align: right;\">\n",
       "      <th></th>\n",
       "      <th>Unnamed: 0</th>\n",
       "      <th>Unnamed: 0.1</th>\n",
       "      <th>abv</th>\n",
       "      <th>beer_id</th>\n",
       "      <th>brewery</th>\n",
       "      <th>brewery_id</th>\n",
       "      <th>date_added</th>\n",
       "      <th>description</th>\n",
       "      <th>ibu</th>\n",
       "      <th>monthly_checkins</th>\n",
       "      <th>name</th>\n",
       "      <th>raters</th>\n",
       "      <th>rating</th>\n",
       "      <th>style</th>\n",
       "      <th>total_checkins</th>\n",
       "      <th>unique_checkins</th>\n",
       "    </tr>\n",
       "  </thead>\n",
       "  <tbody>\n",
       "    <tr>\n",
       "      <th>0</th>\n",
       "      <td>0</td>\n",
       "      <td>0</td>\n",
       "      <td>\\n                        4.5% ABV            ...</td>\n",
       "      <td>1</td>\n",
       "      <td>Magic Hat Brewing Company</td>\n",
       "      <td>812</td>\n",
       "      <td>\\n                        Added 08/21/10      ...</td>\n",
       "      <td>Our take on a cla...</td>\n",
       "      <td>\\n                        13 IBU              ...</td>\n",
       "      <td>99</td>\n",
       "      <td>Hocus Pocus</td>\n",
       "      <td>\\n                        10,365 Ratings      ...</td>\n",
       "      <td>(3.23)</td>\n",
       "      <td>Pale Wheat Ale - American</td>\n",
       "      <td>14,835</td>\n",
       "      <td>12,168</td>\n",
       "    </tr>\n",
       "    <tr>\n",
       "      <th>1</th>\n",
       "      <td>1</td>\n",
       "      <td>1</td>\n",
       "      <td>\\n                        6.7% ABV            ...</td>\n",
       "      <td>2</td>\n",
       "      <td>Brouwerij Alken-Maes</td>\n",
       "      <td>264</td>\n",
       "      <td>\\n                        Added 08/21/10      ...</td>\n",
       "      <td>When the first re...</td>\n",
       "      <td>\\n                        22 IBU              ...</td>\n",
       "      <td>2,144</td>\n",
       "      <td>Grimbergen Blonde</td>\n",
       "      <td>\\n                        61,846 Ratings      ...</td>\n",
       "      <td>(3.51)</td>\n",
       "      <td>Blonde Ale - Belgian Blonde / Golden</td>\n",
       "      <td>92,563</td>\n",
       "      <td>68,879</td>\n",
       "    </tr>\n",
       "    <tr>\n",
       "      <th>2</th>\n",
       "      <td>2</td>\n",
       "      <td>2</td>\n",
       "      <td>\\n                        10.7% ABV           ...</td>\n",
       "      <td>505601</td>\n",
       "      <td>Left Hand Brewing Company</td>\n",
       "      <td>779</td>\n",
       "      <td>\\n                        Added 11/15/13      ...</td>\n",
       "      <td>Widdershins is ou...</td>\n",
       "      <td>\\n                        65 IBU              ...</td>\n",
       "      <td>7</td>\n",
       "      <td>Widdershins Oak Aged Barleywine Ale</td>\n",
       "      <td>\\n                        4,735 Ratings       ...</td>\n",
       "      <td>(3.69)</td>\n",
       "      <td>Barleywine - English</td>\n",
       "      <td>5,859</td>\n",
       "      <td>5,444</td>\n",
       "    </tr>\n",
       "    <tr>\n",
       "      <th>3</th>\n",
       "      <td>3</td>\n",
       "      <td>3</td>\n",
       "      <td>\\n                        8% ABV              ...</td>\n",
       "      <td>16551</td>\n",
       "      <td>Brouwerij Het Anker</td>\n",
       "      <td>284</td>\n",
       "      <td>\\n                        Added 12/24/10      ...</td>\n",
       "      <td>Lucifer entered t...</td>\n",
       "      <td>\\n                        24 IBU              ...</td>\n",
       "      <td>551</td>\n",
       "      <td>Lucifer</td>\n",
       "      <td>\\n                        28,866 Ratings      ...</td>\n",
       "      <td>(3.6)</td>\n",
       "      <td>Belgian Strong Golden Ale</td>\n",
       "      <td>36,667</td>\n",
       "      <td>32,498</td>\n",
       "    </tr>\n",
       "    <tr>\n",
       "      <th>4</th>\n",
       "      <td>4</td>\n",
       "      <td>4</td>\n",
       "      <td>\\n                        4% ABV              ...</td>\n",
       "      <td>5</td>\n",
       "      <td>Ridgeway Brewing</td>\n",
       "      <td>1056</td>\n",
       "      <td>\\n                        Added 08/21/10      ...</td>\n",
       "      <td></td>\n",
       "      <td>\\n                        No IBU              ...</td>\n",
       "      <td>6</td>\n",
       "      <td>Oxfordshire Bitter</td>\n",
       "      <td>\\n                        547 Ratings         ...</td>\n",
       "      <td>(3.29)</td>\n",
       "      <td>English Bitter</td>\n",
       "      <td>704</td>\n",
       "      <td>645</td>\n",
       "    </tr>\n",
       "  </tbody>\n",
       "</table>\n",
       "</div>"
      ],
      "text/plain": [
       "   Unnamed: 0  Unnamed: 0.1  \\\n",
       "0           0             0   \n",
       "1           1             1   \n",
       "2           2             2   \n",
       "3           3             3   \n",
       "4           4             4   \n",
       "\n",
       "                                                 abv  beer_id  \\\n",
       "0  \\n                        4.5% ABV            ...        1   \n",
       "1  \\n                        6.7% ABV            ...        2   \n",
       "2  \\n                        10.7% ABV           ...   505601   \n",
       "3  \\n                        8% ABV              ...    16551   \n",
       "4  \\n                        4% ABV              ...        5   \n",
       "\n",
       "                     brewery  brewery_id  \\\n",
       "0  Magic Hat Brewing Company         812   \n",
       "1       Brouwerij Alken-Maes         264   \n",
       "2  Left Hand Brewing Company         779   \n",
       "3        Brouwerij Het Anker         284   \n",
       "4           Ridgeway Brewing        1056   \n",
       "\n",
       "                                          date_added  \\\n",
       "0  \\n                        Added 08/21/10      ...   \n",
       "1  \\n                        Added 08/21/10      ...   \n",
       "2  \\n                        Added 11/15/13      ...   \n",
       "3  \\n                        Added 12/24/10      ...   \n",
       "4  \\n                        Added 08/21/10      ...   \n",
       "\n",
       "                                         description  \\\n",
       "0                               Our take on a cla...   \n",
       "1                               When the first re...   \n",
       "2                               Widdershins is ou...   \n",
       "3                               Lucifer entered t...   \n",
       "4                                                      \n",
       "\n",
       "                                                 ibu monthly_checkins  \\\n",
       "0  \\n                        13 IBU              ...               99   \n",
       "1  \\n                        22 IBU              ...            2,144   \n",
       "2  \\n                        65 IBU              ...                7   \n",
       "3  \\n                        24 IBU              ...              551   \n",
       "4  \\n                        No IBU              ...                6   \n",
       "\n",
       "                                  name  \\\n",
       "0                          Hocus Pocus   \n",
       "1                    Grimbergen Blonde   \n",
       "2  Widdershins Oak Aged Barleywine Ale   \n",
       "3                              Lucifer   \n",
       "4                   Oxfordshire Bitter   \n",
       "\n",
       "                                              raters  rating  \\\n",
       "0  \\n                        10,365 Ratings      ...  (3.23)   \n",
       "1  \\n                        61,846 Ratings      ...  (3.51)   \n",
       "2  \\n                        4,735 Ratings       ...  (3.69)   \n",
       "3  \\n                        28,866 Ratings      ...   (3.6)   \n",
       "4  \\n                        547 Ratings         ...  (3.29)   \n",
       "\n",
       "                                  style total_checkins unique_checkins  \n",
       "0             Pale Wheat Ale - American         14,835          12,168  \n",
       "1  Blonde Ale - Belgian Blonde / Golden         92,563          68,879  \n",
       "2                  Barleywine - English          5,859           5,444  \n",
       "3             Belgian Strong Golden Ale         36,667          32,498  \n",
       "4                        English Bitter            704             645  "
      ]
     },
     "execution_count": 7,
     "metadata": {},
     "output_type": "execute_result"
    }
   ],
   "source": [
    "df.head()"
   ]
  },
  {
   "cell_type": "code",
   "execution_count": 8,
   "metadata": {
    "collapsed": true
   },
   "outputs": [],
   "source": []
  },
  {
   "cell_type": "code",
   "execution_count": 16,
   "metadata": {},
   "outputs": [],
   "source": [
    "clean_descriptions = df.description.apply(lambda x: x.strip())"
   ]
  },
  {
   "cell_type": "code",
   "execution_count": 21,
   "metadata": {},
   "outputs": [
    {
     "data": {
      "text/plain": [
       "'When the first regular breweries were founded in the Middle Ages, beer filtration was not a common technology and few mastered it. Among these few were the Fathers of Grimbergen Abbey, who became renowned experts in craft brewing. Their masterpiece was the filtrated Grimbergen Blonde – a pure, smooth, blonde ale with ripe fruit flavours and no cloudiness – that stood out from other beers of the time. Today, it’s still an insider tip among beer connoisseurs around the world.'"
      ]
     },
     "execution_count": 21,
     "metadata": {},
     "output_type": "execute_result"
    }
   ],
   "source": [
    "clean_descriptions[1]"
   ]
  },
  {
   "cell_type": "code",
   "execution_count": 34,
   "metadata": {},
   "outputs": [],
   "source": [
    "with open(\"beer_text.txt\", \"w\") as f: \n",
    "    f.write(clean_descriptions[0] + '\\n\\n') "
   ]
  },
  {
   "cell_type": "code",
   "execution_count": 35,
   "metadata": {
    "collapsed": true
   },
   "outputs": [],
   "source": [
    "for description in clean_descriptions[1:]:\n",
    "    if len(description) > 0:\n",
    "        with open(\"beer_text.txt\", \"a\") as f: \n",
    "            f.write(description + '\\n\\n') "
   ]
  },
  {
   "cell_type": "code",
   "execution_count": 36,
   "metadata": {
    "collapsed": true
   },
   "outputs": [],
   "source": [
    "## python scripts/preprocess.py --input_txt ~/GA/Capstone/beer_machine/beer_text.txt --output_h5 data/beer_text.h5 --output_json data/beer_text.json"
   ]
  },
  {
   "cell_type": "code",
   "execution_count": null,
   "metadata": {
    "collapsed": true
   },
   "outputs": [],
   "source": [
    "# th train.lua -input_h5 data/beer_text.h5 -input_json data/beer_text.json -gpu -1"
   ]
  }
 ],
 "metadata": {
  "kernelspec": {
   "display_name": "Python 3",
   "language": "python",
   "name": "python3"
  },
  "language_info": {
   "codemirror_mode": {
    "name": "ipython",
    "version": 3
   },
   "file_extension": ".py",
   "mimetype": "text/x-python",
   "name": "python",
   "nbconvert_exporter": "python",
   "pygments_lexer": "ipython3",
   "version": "3.6.0"
  }
 },
 "nbformat": 4,
 "nbformat_minor": 2
}
