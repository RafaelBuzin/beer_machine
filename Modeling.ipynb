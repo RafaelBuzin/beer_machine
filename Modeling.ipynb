{
 "cells": [
  {
   "cell_type": "code",
   "execution_count": 1,
   "metadata": {
    "collapsed": true
   },
   "outputs": [],
   "source": [
    "import pandas as pd\n",
    "import numpy as np\n",
    "import matplotlib.pyplot as plt\n",
    "%matplotlib inline\n",
    "\n",
    "import missingno as msno\n",
    "from sklearn.base import TransformerMixin\n",
    "from datetime import datetime\n",
    "from scipy import stats\n",
    "import math"
   ]
  },
  {
   "cell_type": "code",
   "execution_count": 282,
   "metadata": {
    "collapsed": true
   },
   "outputs": [],
   "source": [
    "## sklearn imports\n",
    "from sklearn.model_selection import train_test_split, cross_val_score, GridSearchCV\n",
    "from sklearn.linear_model import LinearRegression, Lasso, Ridge, ElasticNet, BayesianRidge\n",
    "from sklearn.ensemble import RandomForestRegressor, ExtraTreesRegressor, GradientBoostingRegressor, AdaBoostRegressor\n",
    "from sklearn.preprocessing import StandardScaler, LabelBinarizer\n",
    "from sklearn.metrics import mean_absolute_error, mean_squared_error\n",
    "\n",
    "from sklearn.feature_selection import RFE, RFECV\n",
    "from sklearn.feature_selection import SelectKBest\n",
    "\n",
    "from sklearn.metrics import classification_report, confusion_matrix, r2_score\n",
    "from sklearn.ensemble import AdaBoostClassifier, GradientBoostingClassifier, \\\n",
    "    RandomForestClassifier, ExtraTreesClassifier, VotingClassifier\n",
    "\n",
    "from xgboost import XGBClassifier, XGBRegressor\n",
    "from sklearn.decomposition import PCA"
   ]
  },
  {
   "cell_type": "code",
   "execution_count": 3,
   "metadata": {
    "collapsed": true
   },
   "outputs": [],
   "source": [
    "pd.options.display.max_rows = 200\n",
    "pd.options.display.max_columns = 60"
   ]
  },
  {
   "cell_type": "code",
   "execution_count": 4,
   "metadata": {
    "collapsed": true
   },
   "outputs": [],
   "source": [
    "class FeatureExtractorToSeries(TransformerMixin):\n",
    "    def __init__(self, column):\n",
    "        self.column = column\n",
    "\n",
    "    def fit(self, x, y=None):\n",
    "        return self\n",
    "\n",
    "    def transform(self, x):\n",
    "        return x[self.column]\n",
    "\n",
    "class FeatureExtractorToArray(FeatureExtractorToSeries):\n",
    "    def transform(self, x, y=None):\n",
    "        return x[self.column].values.reshape(-1,1)"
   ]
  },
  {
   "cell_type": "code",
   "execution_count": 133,
   "metadata": {
    "collapsed": true
   },
   "outputs": [],
   "source": [
    "def run_model(x_train, x_test, y_train, y_test, model):\n",
    "    print(model)\n",
    "    model.fit(x_train, y_train)\n",
    "    print(\"Base model score: \" + str(np.mean(y_test))[:6])\n",
    "    print(\"Training set score: \", str(model.score(x_train, y_train))[:6])\n",
    "    print(\"Test set score: \", str(model.score(x_test, y_test))[:6])\n",
    "    predictions = model.predict(x_test)\n",
    "    print(\"\\nConfusion Matrix:\\n\", pd.DataFrame(confusion_matrix(y_test, predictions), \n",
    "                                              columns=['predicted_0', 'predicted_1', 'predicted_2'],\n",
    "                                                index=['is_0', 'is_1', 'is_2']))\n",
    "    print(\"\\nClassification Report:\\n\",classification_report(y_test, predictions))\n",
    "\n",
    "def run_threshold_classifier(x_train, x_test, y_train, y_test, model, threshold_list):\n",
    "    print(model)\n",
    "    model.fit(x_train, y_train)\n",
    "    print(\"Training set score: \", str(model.score(x_train, y_train))[:6])\n",
    "    print(\"Test set score: \", str(model.score(x_test, y_test))[:6])\n",
    "    probabilities = model.predict_proba(x_test)\n",
    "    print(probabilities)\n",
    "    thresholds = threshold_list\n",
    "    for threshold in thresholds:\n",
    "        print('\\nWith tail probability threshold of %s:' % threshold)\n",
    "        predictions = []\n",
    "        for probability in probabilities:\n",
    "            if probability[0] > threshold:\n",
    "                predictions.append(0)\n",
    "            elif probability[2] > threshold:\n",
    "                predictions.append(2)\n",
    "            else:\n",
    "                predictions.append(1)\n",
    "        print(\"\\nConfusion Matrix:\\n\", pd.DataFrame(confusion_matrix(y_test, predictions), \n",
    "                                                  columns=['predicted_0', 'predicted_1', 'predicted_2'],\n",
    "                                                    index=['is_0', 'is_1', 'is_2']))\n",
    "        print(\"\\nClassification Report:\\n\",classification_report(y_test, predictions))\n",
    "        \n",
    "    \n",
    "def run_regression_model(x_train, x_test, y_train, y_test, model):\n",
    "    model.fit(x_train, y_train)\n",
    "    print(model)\n",
    "    print(\"Training set r score: \", model.score(x_train, y_train))\n",
    "    print(\"Test set r score: \", model.score(x_test, y_test))\n",
    "    predictions = model.predict(x_test)\n",
    "    print(\"Mean Absolute Error on Test Set:\", mean_absolute_error(y_test, predictions))\n",
    "    print(\"Mean Squared Error on Test Set:\", mean_squared_error(y_test, predictions))\n",
    "    plt.scatter(y_test, predictions)\n",
    "    plt.ylabel('Predicted Score')\n",
    "    plt.xlabel('Actual Score')\n",
    "    plt.plot([0, 5], [0, 5])\n",
    "    plt.show()\n",
    "    plt.clf()\n",
    "    \n",
    "\n"
   ]
  },
  {
   "cell_type": "code",
   "execution_count": 6,
   "metadata": {
    "collapsed": true
   },
   "outputs": [],
   "source": [
    "countries = ['United States',\n",
    "       'Norway', 'Brazil', 'England', 'Sweden', 'Netherlands', 'Canada',\n",
    "       'Germany', 'Australia', 'France', 'Italy', 'Belgium', 'Russia',\n",
    "       'Mexico', 'Spain', 'New Zealand', 'Denmark', 'Finland', 'Scotland',\n",
    "       'Czech Republic']"
   ]
  },
  {
   "cell_type": "code",
   "execution_count": 320,
   "metadata": {
    "collapsed": true
   },
   "outputs": [],
   "source": [
    "data = pd.read_csv('data/database/master.csv', index_col=0)"
   ]
  },
  {
   "cell_type": "code",
   "execution_count": 321,
   "metadata": {},
   "outputs": [],
   "source": [
    "data['date_added'] = data['date_added'].apply(lambda x: datetime.strptime(x, '%Y-%m-%d').timestamp())\n",
    "data['date_brewery_added'] = data['date_brewery_added'].apply(lambda x: datetime.strptime(x, '%Y-%m-%d').timestamp())"
   ]
  },
  {
   "cell_type": "code",
   "execution_count": 322,
   "metadata": {
    "scrolled": true
   },
   "outputs": [
    {
     "name": "stdout",
     "output_type": "stream",
     "text": [
      "(564999, 141) (141250, 141)\n"
     ]
    }
   ],
   "source": [
    "df, _ = train_test_split(data, train_size=0.8, random_state=5752)\n",
    "print(df.shape, _.shape)\n",
    "df = df.copy()"
   ]
  },
  {
   "cell_type": "code",
   "execution_count": 323,
   "metadata": {},
   "outputs": [
    {
     "data": {
      "text/plain": [
       "1    430579\n",
       "0     69221\n",
       "2     65199\n",
       "Name: rating_class, dtype: int64"
      ]
     },
     "execution_count": 323,
     "metadata": {},
     "output_type": "execute_result"
    }
   ],
   "source": [
    "df['rating_class'] = df['rating'].apply(rating_classes)\n",
    "df['rating_class'].value_counts()"
   ]
  },
  {
   "cell_type": "code",
   "execution_count": 324,
   "metadata": {},
   "outputs": [
    {
     "data": {
      "text/plain": [
       "count    5.649990e+05\n",
       "mean     1.407559e+09\n",
       "std      6.062374e+07\n",
       "min      1.282367e+09\n",
       "25%      1.365656e+09\n",
       "50%      1.421129e+09\n",
       "75%      1.458709e+09\n",
       "max      1.492319e+09\n",
       "Name: date_added, dtype: float64"
      ]
     },
     "execution_count": 324,
     "metadata": {},
     "output_type": "execute_result"
    }
   ],
   "source": [
    "df['date_added'].describe()"
   ]
  },
  {
   "cell_type": "code",
   "execution_count": 10,
   "metadata": {
    "collapsed": true
   },
   "outputs": [
    {
     "name": "stdout",
     "output_type": "stream",
     "text": [
      "(446214, 122)\n",
      "<class 'pandas.core.frame.DataFrame'>\n",
      "Int64Index: 50000 entries, 717259 to 635173\n",
      "Columns: 122 entries, name to rating_class\n",
      "dtypes: datetime64[ns](2), float64(82), int64(29), object(9)\n",
      "memory usage: 46.9+ MB\n"
     ]
    }
   ],
   "source": [
    "us_df = df[df['United States'] == 1].copy()\n",
    "us_df.drop(countries, axis=1, inplace=True)\n",
    "print(us_df.shape)\n",
    "lil_us = us_df.sample(n=50000)\n",
    "lil_us.info()"
   ]
  },
  {
   "cell_type": "code",
   "execution_count": 11,
   "metadata": {
    "collapsed": true
   },
   "outputs": [
    {
     "name": "stdout",
     "output_type": "stream",
     "text": [
      "<class 'pandas.core.frame.DataFrame'>\n",
      "Int64Index: 50000 entries, 59877 to 239142\n",
      "Columns: 142 entries, name to rating_class\n",
      "dtypes: datetime64[ns](2), float64(102), int64(29), object(9)\n",
      "memory usage: 54.6+ MB\n"
     ]
    }
   ],
   "source": [
    "lil_df = df.sample(n=50000)\n",
    "lil_df.info()"
   ]
  },
  {
   "cell_type": "code",
   "execution_count": 12,
   "metadata": {
    "collapsed": true
   },
   "outputs": [
    {
     "name": "stdout",
     "output_type": "stream",
     "text": [
      "<class 'pandas.core.frame.DataFrame'>\n",
      "Int64Index: 706249 entries, 0 to 739257\n",
      "Columns: 142 entries, name to rating_class\n",
      "dtypes: datetime64[ns](2), float64(102), int64(29), object(9)\n",
      "memory usage: 770.5+ MB\n"
     ]
    }
   ],
   "source": [
    "df.info()"
   ]
  },
  {
   "cell_type": "code",
   "execution_count": 14,
   "metadata": {
    "collapsed": true
   },
   "outputs": [
    {
     "data": {
      "text/plain": [
       "count    1972.000000\n",
       "mean        3.697992\n",
       "std         0.289977\n",
       "min         2.390000\n",
       "25%         3.530000\n",
       "50%         3.710000\n",
       "75%         3.870000\n",
       "max         4.600000\n",
       "Name: rating, dtype: float64"
      ]
     },
     "execution_count": 14,
     "metadata": {},
     "output_type": "execute_result"
    }
   ],
   "source": [
    "df[df['Home Brewery'] == 1]['rating'].describe()"
   ]
  },
  {
   "cell_type": "code",
   "execution_count": 274,
   "metadata": {
    "collapsed": true
   },
   "outputs": [
    {
     "data": {
      "text/plain": [
       "Index(['name', 'brewery', 'style', 'rating', 'raters', 'abv', 'ibu',\n",
       "       'total_checkins', 'unique_checkins', 'monthly_checkins', 'date_added',\n",
       "       'description', 'beer_id', 'brewery_id', 'oop', 'has_description',\n",
       "       'brewery_name', 'brewery_description', 'brewery_location',\n",
       "       'brewery_num_beers', 'brewery_raters', 'brewery_rating',\n",
       "       'date_brewery_added', 'monthly_brewery_checkins', 'subsidiary_id',\n",
       "       'subsidiary_name', 'total_brewery_checkins', 'unique_brewery_checkins',\n",
       "       'brewery_closed', 'is_subsidiary', 'official_account',\n",
       "       'Bar / Restaurant / Store', 'Brew Pub', 'Cidery / Meadery',\n",
       "       'Collaboration Brewery', 'Home Brewery', 'Macro Brewery',\n",
       "       'Micro Brewery', 'Nano Brewery', 'United States', 'Norway', 'Brazil',\n",
       "       'England', 'Sweden', 'Netherlands', 'Canada', 'Germany', 'Australia',\n",
       "       'France', 'Italy', 'Belgium', 'Russia', 'Mexico', 'Spain',\n",
       "       'New Zealand', 'Denmark', 'Finland', 'Scotland', 'Czech Republic', 'AK',\n",
       "       'AL', 'AR', 'AZ', 'CA', 'CO', 'CT', 'DC', 'DE', 'FL', 'GA', 'GU', 'HI',\n",
       "       'IA', 'ID', 'IL'],\n",
       "      dtype='object')"
      ]
     },
     "execution_count": 274,
     "metadata": {},
     "output_type": "execute_result"
    }
   ],
   "source": [
    "df.columns[0:75]"
   ]
  },
  {
   "cell_type": "code",
   "execution_count": 275,
   "metadata": {},
   "outputs": [
    {
     "data": {
      "text/plain": [
       "Index(['IN', 'KS', 'KY', 'LA', 'MA', 'MD', 'ME', 'MH', 'MI', 'MN', 'MO', 'MS',\n",
       "       'MT', 'NC', 'ND', 'NE', 'NH', 'NJ', 'NM', 'NV', 'NY', 'OH', 'OK', 'OR',\n",
       "       'PA', 'PR', 'PW', 'RI', 'SC', 'SD', 'TN', 'TX', 'UT', 'VA', 'VI', 'VT',\n",
       "       'WA', 'WI', 'WV', 'WY', 'brewery_has_description', 'in_smokes',\n",
       "       'in_ryes', 'in_spiced', 'in_trad_german', 'in_trad_brit', 'in_thicks',\n",
       "       'in_fall_winter', 'in_lager_lager', 'in_subpremiums', 'in_porters',\n",
       "       'in_stouts', 'in_browns', 'in_yeasty_belgians', 'in_light_ales',\n",
       "       'in_ambers', 'in_wheats', 'in_pilsners', 'in_sours', 'in_pale_ales',\n",
       "       'in_ipas', 'in_ales', 'in_lagers', 'in_others', 'style_frequency',\n",
       "       'in_strongs', 'rating_class'],\n",
       "      dtype='object')"
      ]
     },
     "execution_count": 275,
     "metadata": {},
     "output_type": "execute_result"
    }
   ],
   "source": [
    "df.columns[75:]"
   ]
  },
  {
   "cell_type": "markdown",
   "metadata": {},
   "source": [
    "Consider stratifying on train/test and other cross val measures since target data is center-heavy"
   ]
  },
  {
   "cell_type": "code",
   "execution_count": null,
   "metadata": {
    "collapsed": true
   },
   "outputs": [],
   "source": []
  },
  {
   "cell_type": "code",
   "execution_count": 276,
   "metadata": {
    "collapsed": true
   },
   "outputs": [],
   "source": [
    "y = df['rating'].values\n",
    "lil_y = lil_df['rating'].values\n",
    "us_y = lil_us['rating'].values\n",
    "# y = df['rating'].apply(math.log).values"
   ]
  },
  {
   "cell_type": "code",
   "execution_count": 64,
   "metadata": {},
   "outputs": [
    {
     "data": {
      "text/plain": [
       "DescribeResult(nobs=706249, minmax=(1.01, 5.0), mean=3.6091241899103577, variance=0.12816889913518648, skewness=-0.7408002269928498, kurtosis=2.522328414543245)"
      ]
     },
     "execution_count": 64,
     "metadata": {},
     "output_type": "execute_result"
    }
   ],
   "source": [
    "stats.describe(y)"
   ]
  },
  {
   "cell_type": "code",
   "execution_count": 62,
   "metadata": {},
   "outputs": [
    {
     "data": {
      "text/plain": [
       "count    706249.000000\n",
       "mean          3.609124\n",
       "std           0.358007\n",
       "min           1.010000\n",
       "25%           3.430000\n",
       "50%           3.630000\n",
       "75%           3.830000\n",
       "max           5.000000\n",
       "Name: rating, dtype: float64"
      ]
     },
     "execution_count": 62,
     "metadata": {},
     "output_type": "execute_result"
    }
   ],
   "source": [
    "df['rating'].describe()"
   ]
  },
  {
   "cell_type": "code",
   "execution_count": 67,
   "metadata": {},
   "outputs": [
    {
     "name": "stdout",
     "output_type": "stream",
     "text": [
      "0.12227557136364087\n",
      "0.11540122534686775\n"
     ]
    }
   ],
   "source": [
    "num_under_3 = df[df['rating'] < 3.25].shape[0]\n",
    "num_4_or_more = df[df['rating'] >= 4].shape[0]\n",
    "total = df.shape[0]\n",
    "print(num_under_3/total)\n",
    "print(num_4_or_more/total)"
   ]
  },
  {
   "cell_type": "code",
   "execution_count": 60,
   "metadata": {},
   "outputs": [
    {
     "data": {
      "text/plain": [
       "(array([  0.00000000e+00,   0.00000000e+00,   0.00000000e+00,\n",
       "          4.90000000e+01,   1.10000000e+02,   3.11000000e+02,\n",
       "          7.96000000e+02,   1.80800000e+03,   3.87400000e+03,\n",
       "          8.21300000e+03,   1.95220000e+04,   5.16740000e+04,\n",
       "          1.42718000e+05,   2.32342000e+05,   1.63330000e+05,\n",
       "          6.11300000e+04,   1.68860000e+04,   3.24000000e+03,\n",
       "          2.46000000e+02]),\n",
       " array([ 0.25,  0.5 ,  0.75,  1.  ,  1.25,  1.5 ,  1.75,  2.  ,  2.25,\n",
       "         2.5 ,  2.75,  3.  ,  3.25,  3.5 ,  3.75,  4.  ,  4.25,  4.5 ,\n",
       "         4.75,  5.  ]),\n",
       " <a list of 19 Patch objects>)"
      ]
     },
     "execution_count": 60,
     "metadata": {},
     "output_type": "execute_result"
    },
    {
     "data": {
      "image/png": "[encoded data removed]",
      "text/plain": [
       "<matplotlib.figure.Figure at 0x16514b470>"
      ]
     },
     "metadata": {},
     "output_type": "display_data"
    }
   ],
   "source": [
    "plt.hist(y, bins=np.arange(0.25, 5.25, 0.25))"
   ]
  },
  {
   "cell_type": "code",
   "execution_count": 72,
   "metadata": {},
   "outputs": [
    {
     "data": {
      "text/plain": [
       "(array([  5.00000000e+00,   8.00000000e+00,   8.00000000e+00,\n",
       "          1.10000000e+01,   1.60000000e+01,   1.10000000e+01,\n",
       "          1.80000000e+01,   2.60000000e+01,   2.70000000e+01,\n",
       "          3.80000000e+01,   6.90000000e+01,   8.00000000e+01,\n",
       "          7.90000000e+01,   1.15000000e+02,   1.80000000e+02,\n",
       "          2.49000000e+02,   3.26000000e+02,   4.59000000e+02,\n",
       "          5.33000000e+02,   8.16000000e+02,   1.16500000e+03,\n",
       "          1.62000000e+03,   2.15200000e+03,   2.95700000e+03,\n",
       "          4.19300000e+03,   6.26200000e+03,   1.10580000e+04,\n",
       "          1.69210000e+04,   3.02370000e+04,   5.54860000e+04,\n",
       "          8.64480000e+04,   1.37833000e+05,   1.28744000e+05,\n",
       "          1.09593000e+05,   6.10140000e+04,   2.95750000e+04,\n",
       "          1.23360000e+04,   4.47700000e+03,   1.01000000e+03,\n",
       "          9.40000000e+01]),\n",
       " array([ 0.00995033,  0.04993752,  0.08992471,  0.1299119 ,  0.16989909,\n",
       "         0.20988628,  0.24987347,  0.28986066,  0.32984785,  0.36983504,\n",
       "         0.40982223,  0.44980942,  0.48979661,  0.52978379,  0.56977098,\n",
       "         0.60975817,  0.64974536,  0.68973255,  0.72971974,  0.76970693,\n",
       "         0.80969412,  0.84968131,  0.8896685 ,  0.92965569,  0.96964288,\n",
       "         1.00963007,  1.04961726,  1.08960445,  1.12959164,  1.16957883,\n",
       "         1.20956602,  1.24955321,  1.2895404 ,  1.32952759,  1.36951478,\n",
       "         1.40950196,  1.44948915,  1.48947634,  1.52946353,  1.56945072,\n",
       "         1.60943791]),\n",
       " <a list of 40 Patch objects>)"
      ]
     },
     "execution_count": 72,
     "metadata": {},
     "output_type": "execute_result"
    },
    {
     "data": {
      "image/png": "[encoded data removed]",
      "text/plain": [
       "<matplotlib.figure.Figure at 0x14984ae80>"
      ]
     },
     "metadata": {},
     "output_type": "display_data"
    }
   ],
   "source": [
    "plt.hist(df['rating'].apply(math.log), bins=40)"
   ]
  },
  {
   "cell_type": "code",
   "execution_count": 326,
   "metadata": {},
   "outputs": [
    {
     "name": "stdout",
     "output_type": "stream",
     "text": [
      "125\n",
      "['in_smokes', 'in_ryes', 'in_spiced', 'in_trad_german', 'in_trad_brit', 'in_thicks', 'in_fall_winter', 'in_lager_lager', 'in_subpremiums', 'in_porters', 'in_stouts', 'in_browns', 'in_yeasty_belgians', 'in_light_ales', 'in_ambers', 'in_wheats', 'in_pilsners', 'in_sours', 'in_pale_ales', 'in_ipas', 'in_ales', 'in_lagers', 'in_others', 'in_strongs', 'Brew Pub', 'Cidery / Meadery', 'Collaboration Brewery', 'Home Brewery', 'Macro Brewery', 'Micro Brewery', 'Nano Brewery', 'brewery_closed', 'is_subsidiary', 'official_account', 'oop', 'brewery_has_description', 'has_description', 'raters', 'brewery_raters', 'brewery_num_beers', 'total_checkins', 'unique_checkins', 'monthly_checkins', 'total_brewery_checkins', 'unique_brewery_checkins', 'monthly_brewery_checkins', 'style_frequency', 'AK', 'AL', 'AR', 'AZ', 'CA', 'CO', 'CT', 'DC', 'DE', 'FL', 'GA', 'GU', 'HI', 'IA', 'ID', 'IL', 'IN', 'KS', 'KY', 'LA', 'MA', 'MD', 'ME', 'MH', 'MI', 'MN', 'MO', 'MS', 'MT', 'NC', 'ND', 'NE', 'NH', 'NJ', 'NM', 'NV', 'NY', 'OH', 'OK', 'OR', 'PA', 'PR', 'PW', 'RI', 'SC', 'SD', 'TN', 'TX', 'UT', 'VA', 'VI', 'VT', 'WA', 'WI', 'WV', 'WY', 'United States', 'Norway', 'Brazil', 'England', 'Sweden', 'Netherlands', 'Canada', 'Germany', 'Australia', 'France', 'Italy', 'Belgium', 'Russia', 'Mexico', 'Spain', 'New Zealand', 'Denmark', 'Finland', 'Scotland', 'Czech Republic', 'date_added', 'date_brewery_added']\n",
      "all done!!\n"
     ]
    }
   ],
   "source": [
    "style_features = ['in_smokes', 'in_ryes', 'in_spiced', 'in_trad_german', 'in_trad_brit', 'in_thicks',\n",
    "       'in_fall_winter', 'in_lager_lager', 'in_subpremiums', 'in_porters',\n",
    "       'in_stouts', 'in_browns', 'in_yeasty_belgians', 'in_light_ales',\n",
    "       'in_ambers', 'in_wheats', 'in_pilsners', 'in_sours', 'in_pale_ales',\n",
    "       'in_ipas', 'in_ales', 'in_lagers', 'in_others', 'in_strongs']\n",
    "\n",
    "brewery_types = ['Brew Pub', 'Cidery / Meadery', 'Collaboration Brewery', 'Home Brewery',\n",
    "       'Macro Brewery', 'Micro Brewery', 'Nano Brewery']\n",
    "\n",
    "random_bools = ['brewery_closed', 'is_subsidiary', 'official_account', 'oop', \n",
    "                'brewery_has_description', 'has_description']\n",
    "\n",
    "numeric_features = ['raters', 'brewery_raters', 'brewery_num_beers',\n",
    "                    'total_checkins', 'unique_checkins', 'monthly_checkins', \n",
    "                    'total_brewery_checkins', 'unique_brewery_checkins', \n",
    "                    'monthly_brewery_checkins', 'style_frequency']\n",
    "\n",
    "date_features = ['date_added', 'date_brewery_added']\n",
    "\n",
    "country_features = ['United States',\n",
    "       'Norway', 'Brazil', 'England', 'Sweden', 'Netherlands', 'Canada',\n",
    "       'Germany', 'Australia', 'France', 'Italy', 'Belgium', 'Russia',\n",
    "       'Mexico', 'Spain', 'New Zealand', 'Denmark', 'Finland', 'Scotland',\n",
    "       'Czech Republic']\n",
    "\n",
    "state_features = [\"AK\",\"AL\",\"AR\",\"AZ\",\"CA\",\"CO\",\"CT\",\"DC\",\n",
    "                \"DE\",\"FL\",\"GA\",\"GU\",\"HI\",\"IA\",\"ID\", \"IL\",\n",
    "                \"IN\",\"KS\",\"KY\",\"LA\",\"MA\",\"MD\",\"ME\",\"MH\",\n",
    "                \"MI\",\"MN\",\"MO\",\"MS\",\"MT\",\"NC\",\"ND\",\"NE\",\"NH\",\n",
    "                \"NJ\",\"NM\",\"NV\",\"NY\", \"OH\",\"OK\",\"OR\",\"PA\",\"PR\",\n",
    "                \"PW\",\"RI\",\"SC\",\"SD\",\"TN\",\"TX\",\"UT\",\"VA\",\"VI\",\n",
    "                \"VT\",\"WA\",\"WI\",\"WV\",\"WY\"]\n",
    "\n",
    "aas_yet_unused = ['abv', 'ibu', 'description', 'beer_id', 'brewery_id', 'brewery_name',\n",
    "                  'brewery_description', 'brewery_location', 'brewery_rating', \n",
    "                  'subsidiary_id', 'subsidiary_name',]\n",
    "\n",
    "# ('in_smokes', -0.0),\n",
    "#  ('in_lager_lager', -0.0),\n",
    "#  ('in_others', 0.0),\n",
    "#  ('Brew Pub', 0.0),\n",
    "#  ('brewery_raters', 0.0),\n",
    "#  ('unique_checkins', 0.0),\n",
    "#  ('unique_brewery_checkins', 0.0),\n",
    "#  ('GU', 0.0),\n",
    "#  ('HI', -0.0),\n",
    "#  ('LA', 0.0),\n",
    "#  ('MH', 0.0),\n",
    "#  ('MS', -0.0),\n",
    "#  ('MT', 0.0),\n",
    "#  ('NE', -0.0),\n",
    "#  ('NH', 0.0),\n",
    "#  ('OK', -0.0),\n",
    "#  ('OR', -0.0),\n",
    "#  ('SD', -0.0),\n",
    "#  ('UT', 0.0),\n",
    "#  ('VI', 0.0),\n",
    "#  ('WA', -0.0),\n",
    "#  ('WV', -0.0),\n",
    "#  ('WY', -0.0),\n",
    "#  ('Russia', -0.0),\n",
    "#  ('Mexico', -0.0),\n",
    "\n",
    "\n",
    "features = style_features + brewery_types + random_bools + numeric_features + \\\n",
    "            state_features + country_features + date_features\n",
    "\n",
    "\n",
    "\n",
    "# features_to_remove = ['in_smokes', 'in_lager_lager', 'in_others', 'Brew Pub', 'brewery_raters', 'unique_checkins',\n",
    "#                      'unique_brewery_checkins']\n",
    "\n",
    "# for feature in features_to_remove:\n",
    "#     features.remove(feature)\n",
    "\n",
    "\n",
    "\n",
    "print(len(features))\n",
    "print(features)\n",
    "\n",
    "df['rating_class'] = df['rating'].apply(rating_classes)\n",
    "\n",
    "heads = df[df['rating_class'] == 2]\n",
    "hearts = df[df['rating_class'] == 1].sample(80000)\n",
    "tails = df[df['rating_class'] == 0]\n",
    "\n",
    "heads_y = heads['rating'].values\n",
    "heads_x = heads[features].values\n",
    "\n",
    "hearts_y = hearts['rating'].values\n",
    "hearts_x = hearts[features].values\n",
    "\n",
    "tails_y = tails['rating'].values\n",
    "tails_x = tails[features].values\n",
    "\n",
    "# x = df[features].values\n",
    "# lil_x = StandardScaler().fit_transform(lil_df[features].values)\n",
    "# us_x = lil_us[features].values\n",
    "\n",
    "# y = df['rating'].values\n",
    "# lil_y = lil_df['rating'].values\n",
    "# us_y = lil_us['rating'].values\n",
    "\n",
    "# all style bools scores: .25 r .23 mae\n",
    "# raters = .013 r .26 mae\n",
    "# total_checkins = .015 r .26 mae\n",
    "# date_added = .062 r .255 mae\n",
    "# oop = .008 r .26 mae\n",
    "# brewery_num_beers = 0.104 r, .25 mae, .11 mse\n",
    "# all features, rfr, 100 trees = 0.53 r 0.17 mae 0.06 mse\n",
    "print('all done!!')"
   ]
  },
  {
   "cell_type": "code",
   "execution_count": 177,
   "metadata": {
    "collapsed": true
   },
   "outputs": [],
   "source": [
    "pca = PCA(n_components=1)"
   ]
  },
  {
   "cell_type": "code",
   "execution_count": 182,
   "metadata": {},
   "outputs": [],
   "source": [
    "sample = df.sample(100000).copy()\n",
    "y = sample['rating'].values\n",
    "x = sample[features].values\n",
    "new_x = pca.fit_transform(x)"
   ]
  },
  {
   "cell_type": "code",
   "execution_count": 183,
   "metadata": {},
   "outputs": [
    {
     "data": {
      "text/plain": [
       "(100000, 1)"
      ]
     },
     "execution_count": 183,
     "metadata": {},
     "output_type": "execute_result"
    }
   ],
   "source": [
    "new_x.shape"
   ]
  },
  {
   "cell_type": "code",
   "execution_count": 184,
   "metadata": {},
   "outputs": [
    {
     "data": {
      "text/plain": [
       "array([ 0.99092426])"
      ]
     },
     "execution_count": 184,
     "metadata": {},
     "output_type": "execute_result"
    }
   ],
   "source": [
    "pca.explained_variance_ratio_"
   ]
  },
  {
   "cell_type": "code",
   "execution_count": 186,
   "metadata": {},
   "outputs": [
    {
     "name": "stdout",
     "output_type": "stream",
     "text": [
      "done splitting. running model...\n",
      "LinearRegression(copy_X=True, fit_intercept=True, n_jobs=1, normalize=False)\n",
      "Training set r score:  0.0141306764609\n",
      "Test set r score:  0.0123389895785\n",
      "Mean Absolute Error on Test Set: 0.261194392891\n",
      "Mean Squared Error on Test Set: 0.12385626796\n"
     ]
    },
    {
     "data": {
      "image/png": "[encoded data removed]",
      "text/plain": [
       "<matplotlib.figure.Figure at 0x384e8a2e8>"
      ]
     },
     "metadata": {},
     "output_type": "display_data"
    },
    {
     "data": {
      "text/plain": [
       "<matplotlib.figure.Figure at 0x3e6c63c18>"
      ]
     },
     "metadata": {},
     "output_type": "display_data"
    }
   ],
   "source": [
    "pca_lr = LinearRegression()\n",
    "x_train, x_test, y_train, y_test = train_test_split(new_x, y)\n",
    "print('done splitting. running model...')\n",
    "run_regression_model(x_train, x_test, y_train, y_test, pca_lr)"
   ]
  },
  {
   "cell_type": "markdown",
   "metadata": {},
   "source": [
    "It looks like guessing the average gives us around 0.24 mean average error. This serves as a baseline for further modeling, and also suggests that mean squared error might be a better metric"
   ]
  },
  {
   "cell_type": "markdown",
   "metadata": {},
   "source": [
    "# High Val Regressor"
   ]
  },
  {
   "cell_type": "code",
   "execution_count": 187,
   "metadata": {
    "scrolled": true
   },
   "outputs": [
    {
     "name": "stdout",
     "output_type": "stream",
     "text": [
      "(48899, 123) (16300, 123) (48899,) (16300,)\n"
     ]
    }
   ],
   "source": [
    "x_train, x_test, y_train, y_test = train_test_split(heads_x, heads_y)\n",
    "print(x_train.shape, x_test.shape, y_train.shape, y_test.shape)"
   ]
  },
  {
   "cell_type": "code",
   "execution_count": 188,
   "metadata": {
    "collapsed": true
   },
   "outputs": [],
   "source": [
    "### Model types\n",
    "rfr = RandomForestRegressor(n_estimators=100, n_jobs=-1, max_depth=18)\n",
    "etr = ExtraTreesRegressor(n_estimators=100, n_jobs=-1)\n",
    "hxgbr = XGBRegressor(max_depth=18, n_estimators=100)\n",
    "\n",
    "models = [hxgbr]"
   ]
  },
  {
   "cell_type": "code",
   "execution_count": 189,
   "metadata": {},
   "outputs": [
    {
     "name": "stdout",
     "output_type": "stream",
     "text": [
      "XGBRegressor(base_score=0.5, colsample_bylevel=1, colsample_bytree=1, gamma=0,\n",
      "       learning_rate=0.1, max_delta_step=0, max_depth=18,\n",
      "       min_child_weight=1, missing=None, n_estimators=100, nthread=-1,\n",
      "       objective='reg:linear', reg_alpha=0, reg_lambda=1,\n",
      "       scale_pos_weight=1, seed=0, silent=True, subsample=1)\n",
      "Training set r score:  0.912992829658\n",
      "Test set r score:  0.432128376066\n",
      "Mean Absolute Error on Test Set: 0.0832181531227\n",
      "Mean Squared Error on Test Set: 0.0130213974066\n"
     ]
    },
    {
     "data": {
      "image/png": "[encoded data removed]",
      "text/plain": [
       "<matplotlib.figure.Figure at 0x3084ce668>"
      ]
     },
     "metadata": {},
     "output_type": "display_data"
    },
    {
     "data": {
      "text/plain": [
       "<matplotlib.figure.Figure at 0x37b5c3198>"
      ]
     },
     "metadata": {},
     "output_type": "display_data"
    }
   ],
   "source": [
    "for model in models:\n",
    "    run_regression_model(x_train, x_test, y_train, y_test, model)"
   ]
  },
  {
   "cell_type": "code",
   "execution_count": 193,
   "metadata": {},
   "outputs": [],
   "source": [
    "high_model = hxgbr.fit(heads_x, heads_y)"
   ]
  },
  {
   "cell_type": "markdown",
   "metadata": {},
   "source": [
    "# Mid Val Regressor"
   ]
  },
  {
   "cell_type": "code",
   "execution_count": 194,
   "metadata": {},
   "outputs": [
    {
     "name": "stdout",
     "output_type": "stream",
     "text": [
      "(60000, 123) (20000, 123) (60000,) (20000,)\n"
     ]
    }
   ],
   "source": [
    "x_train, x_test, y_train, y_test = train_test_split(hearts_x, hearts_y)\n",
    "print(x_train.shape, x_test.shape, y_train.shape, y_test.shape)"
   ]
  },
  {
   "cell_type": "code",
   "execution_count": 197,
   "metadata": {
    "collapsed": true
   },
   "outputs": [],
   "source": [
    "rfr = RandomForestRegressor(n_estimators=100, n_jobs=-1, max_depth=18)\n",
    "etr = ExtraTreesRegressor(n_estimators=100, n_jobs=-1, max_depth=18)\n",
    "mxgbr = XGBRegressor(max_depth=18, n_estimators=100)\n",
    "\n",
    "models = [mxgbr]"
   ]
  },
  {
   "cell_type": "code",
   "execution_count": 200,
   "metadata": {},
   "outputs": [
    {
     "name": "stdout",
     "output_type": "stream",
     "text": [
      "XGBRegressor(base_score=0.5, colsample_bylevel=1, colsample_bytree=1, gamma=0,\n",
      "       learning_rate=0.1, max_delta_step=0, max_depth=18,\n",
      "       min_child_weight=1, missing=None, n_estimators=100, nthread=-1,\n",
      "       objective='reg:linear', reg_alpha=0, reg_lambda=1,\n",
      "       scale_pos_weight=1, seed=0, silent=True, subsample=1)\n",
      "Training set r score:  0.85346764016\n",
      "Test set r score:  0.3574457064\n",
      "Mean Absolute Error on Test Set: 0.118286054115\n",
      "Mean Squared Error on Test Set: 0.0229504638654\n"
     ]
    },
    {
     "data": {
      "image/png": "[encoded data removed]",
      "text/plain": [
       "<matplotlib.figure.Figure at 0x38217e710>"
      ]
     },
     "metadata": {},
     "output_type": "display_data"
    },
    {
     "data": {
      "text/plain": [
       "<matplotlib.figure.Figure at 0x3e5a9e3c8>"
      ]
     },
     "metadata": {},
     "output_type": "display_data"
    }
   ],
   "source": [
    "for model in models:\n",
    "    run_regression_model(x_train, x_test, y_train, y_test, model)"
   ]
  },
  {
   "cell_type": "code",
   "execution_count": 201,
   "metadata": {
    "collapsed": true
   },
   "outputs": [],
   "source": [
    "mid_model = mxgbr.fit(hearts_x, hearts_y)"
   ]
  },
  {
   "cell_type": "markdown",
   "metadata": {},
   "source": [
    "# Low Val Regressor"
   ]
  },
  {
   "cell_type": "code",
   "execution_count": 202,
   "metadata": {},
   "outputs": [
    {
     "name": "stdout",
     "output_type": "stream",
     "text": [
      "(51915, 123) (17306, 123) (51915,) (17306,)\n"
     ]
    }
   ],
   "source": [
    "x_train, x_test, y_train, y_test = train_test_split(tails_x, tails_y)\n",
    "print(x_train.shape, x_test.shape, y_train.shape, y_test.shape)"
   ]
  },
  {
   "cell_type": "code",
   "execution_count": 205,
   "metadata": {},
   "outputs": [],
   "source": [
    "rfr = RandomForestRegressor(n_estimators=100, n_jobs=-1)\n",
    "etr = ExtraTreesRegressor(n_estimators=100, n_jobs=-1)\n",
    "lxgbr = XGBRegressor(max_depth=18, n_estimators=100)\n",
    "\n",
    "models = [lxgbr]"
   ]
  },
  {
   "cell_type": "code",
   "execution_count": 206,
   "metadata": {},
   "outputs": [
    {
     "name": "stdout",
     "output_type": "stream",
     "text": [
      "XGBRegressor(base_score=0.5, colsample_bylevel=1, colsample_bytree=1, gamma=0,\n",
      "       learning_rate=0.1, max_delta_step=0, max_depth=18,\n",
      "       min_child_weight=1, missing=None, n_estimators=100, nthread=-1,\n",
      "       objective='reg:linear', reg_alpha=0, reg_lambda=1,\n",
      "       scale_pos_weight=1, seed=0, silent=True, subsample=1)\n",
      "Training set r score:  0.925326643526\n",
      "Test set r score:  0.477412171861\n",
      "Mean Absolute Error on Test Set: 0.141648021805\n",
      "Mean Squared Error on Test Set: 0.0456952019581\n"
     ]
    },
    {
     "data": {
      "image/png": "[encoded data removed]",
      "text/plain": [
       "<matplotlib.figure.Figure at 0x3e6588320>"
      ]
     },
     "metadata": {},
     "output_type": "display_data"
    },
    {
     "data": {
      "text/plain": [
       "<matplotlib.figure.Figure at 0x3e7174d68>"
      ]
     },
     "metadata": {},
     "output_type": "display_data"
    }
   ],
   "source": [
    "for model in models:\n",
    "    run_regression_model(x_train, x_test, y_train, y_test, model)"
   ]
  },
  {
   "cell_type": "code",
   "execution_count": 207,
   "metadata": {},
   "outputs": [],
   "source": [
    "low_model = lxgbr.fit(tails_x, tails_y)"
   ]
  },
  {
   "cell_type": "code",
   "execution_count": 62,
   "metadata": {},
   "outputs": [
    {
     "data": {
      "text/html": [
       "<div>\n",
       "<table border=\"1\" class=\"dataframe\">\n",
       "  <thead>\n",
       "    <tr style=\"text-align: right;\">\n",
       "      <th></th>\n",
       "      <th>name</th>\n",
       "      <th>brewery</th>\n",
       "      <th>style</th>\n",
       "      <th>rating</th>\n",
       "      <th>raters</th>\n",
       "      <th>abv</th>\n",
       "      <th>ibu</th>\n",
       "      <th>total_checkins</th>\n",
       "      <th>unique_checkins</th>\n",
       "      <th>monthly_checkins</th>\n",
       "      <th>date_added</th>\n",
       "      <th>description</th>\n",
       "      <th>beer_id</th>\n",
       "      <th>brewery_id</th>\n",
       "      <th>oop</th>\n",
       "      <th>has_description</th>\n",
       "      <th>brewery_name</th>\n",
       "      <th>brewery_description</th>\n",
       "      <th>brewery_location</th>\n",
       "      <th>brewery_num_beers</th>\n",
       "      <th>brewery_raters</th>\n",
       "      <th>brewery_rating</th>\n",
       "      <th>date_brewery_added</th>\n",
       "      <th>monthly_brewery_checkins</th>\n",
       "      <th>subsidiary_id</th>\n",
       "      <th>subsidiary_name</th>\n",
       "      <th>total_brewery_checkins</th>\n",
       "      <th>unique_brewery_checkins</th>\n",
       "      <th>brewery_closed</th>\n",
       "      <th>is_subsidiary</th>\n",
       "      <th>...</th>\n",
       "      <th>WV</th>\n",
       "      <th>WY</th>\n",
       "      <th>brewery_has_description</th>\n",
       "      <th>in_smokes</th>\n",
       "      <th>in_ryes</th>\n",
       "      <th>in_spiced</th>\n",
       "      <th>in_trad_german</th>\n",
       "      <th>in_trad_brit</th>\n",
       "      <th>in_thicks</th>\n",
       "      <th>in_fall_winter</th>\n",
       "      <th>in_lager_lager</th>\n",
       "      <th>in_subpremiums</th>\n",
       "      <th>in_porters</th>\n",
       "      <th>in_stouts</th>\n",
       "      <th>in_browns</th>\n",
       "      <th>in_yeasty_belgians</th>\n",
       "      <th>in_light_ales</th>\n",
       "      <th>in_ambers</th>\n",
       "      <th>in_wheats</th>\n",
       "      <th>in_pilsners</th>\n",
       "      <th>in_sours</th>\n",
       "      <th>in_pale_ales</th>\n",
       "      <th>in_ipas</th>\n",
       "      <th>in_ales</th>\n",
       "      <th>in_lagers</th>\n",
       "      <th>in_others</th>\n",
       "      <th>style_frequency</th>\n",
       "      <th>in_strongs</th>\n",
       "      <th>rating_class</th>\n",
       "      <th>predicted_class</th>\n",
       "    </tr>\n",
       "  </thead>\n",
       "  <tbody>\n",
       "    <tr>\n",
       "      <th>59877</th>\n",
       "      <td>Plead The 5th Imperial Stout (2010)</td>\n",
       "      <td>Dark Horse Brewing Co.</td>\n",
       "      <td>Stout - American Imperial / Double</td>\n",
       "      <td>4.12</td>\n",
       "      <td>225.0</td>\n",
       "      <td>12.00</td>\n",
       "      <td>NaN</td>\n",
       "      <td>288.0</td>\n",
       "      <td>270.0</td>\n",
       "      <td>1.0</td>\n",
       "      <td>2011-12-31</td>\n",
       "      <td>It's big and full bodied with lots of roasted ...</td>\n",
       "      <td>115335</td>\n",
       "      <td>426</td>\n",
       "      <td>1</td>\n",
       "      <td>1</td>\n",
       "      <td>Dark Horse Brewing Co.</td>\n",
       "      <td>Some things in life are easily read and some t...</td>\n",
       "      <td>Marshall, MI         United States</td>\n",
       "      <td>486.0</td>\n",
       "      <td>706099.0</td>\n",
       "      <td>3.80</td>\n",
       "      <td>2010-11-06</td>\n",
       "      <td>14305.0</td>\n",
       "      <td>NaN</td>\n",
       "      <td>NaN</td>\n",
       "      <td>995116.0</td>\n",
       "      <td>238087.0</td>\n",
       "      <td>0.0</td>\n",
       "      <td>0.0</td>\n",
       "      <td>...</td>\n",
       "      <td>0.0</td>\n",
       "      <td>0.0</td>\n",
       "      <td>1.0</td>\n",
       "      <td>0</td>\n",
       "      <td>0</td>\n",
       "      <td>0</td>\n",
       "      <td>0</td>\n",
       "      <td>0</td>\n",
       "      <td>0</td>\n",
       "      <td>0</td>\n",
       "      <td>0</td>\n",
       "      <td>0</td>\n",
       "      <td>0</td>\n",
       "      <td>1</td>\n",
       "      <td>0</td>\n",
       "      <td>0</td>\n",
       "      <td>0</td>\n",
       "      <td>0</td>\n",
       "      <td>0</td>\n",
       "      <td>0</td>\n",
       "      <td>0</td>\n",
       "      <td>0</td>\n",
       "      <td>0</td>\n",
       "      <td>1</td>\n",
       "      <td>0</td>\n",
       "      <td>0</td>\n",
       "      <td>9235.0</td>\n",
       "      <td>0</td>\n",
       "      <td>2</td>\n",
       "      <td>2</td>\n",
       "    </tr>\n",
       "    <tr>\n",
       "      <th>680564</th>\n",
       "      <td>Rye IPA</td>\n",
       "      <td>Lengthwise Brewing Company</td>\n",
       "      <td>Rye IPA</td>\n",
       "      <td>3.91</td>\n",
       "      <td>120.0</td>\n",
       "      <td>7.00</td>\n",
       "      <td>NaN</td>\n",
       "      <td>162.0</td>\n",
       "      <td>138.0</td>\n",
       "      <td>26.0</td>\n",
       "      <td>2016-12-11</td>\n",
       "      <td>NaN</td>\n",
       "      <td>1860431</td>\n",
       "      <td>5102</td>\n",
       "      <td>0</td>\n",
       "      <td>0</td>\n",
       "      <td>Lengthwise Brewing Company</td>\n",
       "      <td>New location: Lengthwise Brewing 7700 District...</td>\n",
       "      <td>Bakersfield, CA         United States</td>\n",
       "      <td>93.0</td>\n",
       "      <td>14191.0</td>\n",
       "      <td>3.83</td>\n",
       "      <td>2010-12-11</td>\n",
       "      <td>362.0</td>\n",
       "      <td>NaN</td>\n",
       "      <td>NaN</td>\n",
       "      <td>20806.0</td>\n",
       "      <td>5017.0</td>\n",
       "      <td>0.0</td>\n",
       "      <td>0.0</td>\n",
       "      <td>...</td>\n",
       "      <td>0.0</td>\n",
       "      <td>0.0</td>\n",
       "      <td>1.0</td>\n",
       "      <td>0</td>\n",
       "      <td>1</td>\n",
       "      <td>0</td>\n",
       "      <td>0</td>\n",
       "      <td>0</td>\n",
       "      <td>0</td>\n",
       "      <td>0</td>\n",
       "      <td>0</td>\n",
       "      <td>0</td>\n",
       "      <td>0</td>\n",
       "      <td>0</td>\n",
       "      <td>0</td>\n",
       "      <td>0</td>\n",
       "      <td>0</td>\n",
       "      <td>0</td>\n",
       "      <td>0</td>\n",
       "      <td>0</td>\n",
       "      <td>0</td>\n",
       "      <td>0</td>\n",
       "      <td>1</td>\n",
       "      <td>1</td>\n",
       "      <td>0</td>\n",
       "      <td>0</td>\n",
       "      <td>1109.0</td>\n",
       "      <td>0</td>\n",
       "      <td>1</td>\n",
       "      <td>1</td>\n",
       "    </tr>\n",
       "    <tr>\n",
       "      <th>245884</th>\n",
       "      <td>County Brown</td>\n",
       "      <td>Sebago Brewing Company</td>\n",
       "      <td>Brown Ale - American</td>\n",
       "      <td>3.50</td>\n",
       "      <td>138.0</td>\n",
       "      <td>5.20</td>\n",
       "      <td>NaN</td>\n",
       "      <td>173.0</td>\n",
       "      <td>158.0</td>\n",
       "      <td>0.0</td>\n",
       "      <td>2014-04-19</td>\n",
       "      <td>Specialty brown ale</td>\n",
       "      <td>654162</td>\n",
       "      <td>2624</td>\n",
       "      <td>0</td>\n",
       "      <td>1</td>\n",
       "      <td>Sebago Brewing Company</td>\n",
       "      <td>Sebago Brewing Company is a Maine-owned and op...</td>\n",
       "      <td>Gorham, ME         United States</td>\n",
       "      <td>156.0</td>\n",
       "      <td>68431.0</td>\n",
       "      <td>3.61</td>\n",
       "      <td>2010-11-09</td>\n",
       "      <td>1507.0</td>\n",
       "      <td>NaN</td>\n",
       "      <td>NaN</td>\n",
       "      <td>99850.0</td>\n",
       "      <td>34429.0</td>\n",
       "      <td>0.0</td>\n",
       "      <td>0.0</td>\n",
       "      <td>...</td>\n",
       "      <td>0.0</td>\n",
       "      <td>0.0</td>\n",
       "      <td>1.0</td>\n",
       "      <td>0</td>\n",
       "      <td>0</td>\n",
       "      <td>0</td>\n",
       "      <td>0</td>\n",
       "      <td>0</td>\n",
       "      <td>0</td>\n",
       "      <td>0</td>\n",
       "      <td>0</td>\n",
       "      <td>0</td>\n",
       "      <td>0</td>\n",
       "      <td>0</td>\n",
       "      <td>1</td>\n",
       "      <td>0</td>\n",
       "      <td>0</td>\n",
       "      <td>0</td>\n",
       "      <td>0</td>\n",
       "      <td>0</td>\n",
       "      <td>0</td>\n",
       "      <td>0</td>\n",
       "      <td>0</td>\n",
       "      <td>1</td>\n",
       "      <td>0</td>\n",
       "      <td>0</td>\n",
       "      <td>10985.0</td>\n",
       "      <td>0</td>\n",
       "      <td>1</td>\n",
       "      <td>1</td>\n",
       "    </tr>\n",
       "    <tr>\n",
       "      <th>495700</th>\n",
       "      <td>Barrel Series Barley Wine</td>\n",
       "      <td>Royal City Brewing</td>\n",
       "      <td>Barleywine - English</td>\n",
       "      <td>3.57</td>\n",
       "      <td>97.0</td>\n",
       "      <td>8.65</td>\n",
       "      <td>NaN</td>\n",
       "      <td>106.0</td>\n",
       "      <td>101.0</td>\n",
       "      <td>0.0</td>\n",
       "      <td>2015-12-31</td>\n",
       "      <td>NaN</td>\n",
       "      <td>1373820</td>\n",
       "      <td>80018</td>\n",
       "      <td>0</td>\n",
       "      <td>0</td>\n",
       "      <td>Royal City Brewing</td>\n",
       "      <td>Small Craft Brewery in the East End of Guelph....</td>\n",
       "      <td>Guelph, ON         Canada</td>\n",
       "      <td>244.0</td>\n",
       "      <td>22111.0</td>\n",
       "      <td>3.61</td>\n",
       "      <td>2013-09-07</td>\n",
       "      <td>975.0</td>\n",
       "      <td>NaN</td>\n",
       "      <td>NaN</td>\n",
       "      <td>29046.0</td>\n",
       "      <td>6414.0</td>\n",
       "      <td>0.0</td>\n",
       "      <td>0.0</td>\n",
       "      <td>...</td>\n",
       "      <td>0.0</td>\n",
       "      <td>0.0</td>\n",
       "      <td>1.0</td>\n",
       "      <td>0</td>\n",
       "      <td>0</td>\n",
       "      <td>0</td>\n",
       "      <td>0</td>\n",
       "      <td>0</td>\n",
       "      <td>1</td>\n",
       "      <td>0</td>\n",
       "      <td>0</td>\n",
       "      <td>0</td>\n",
       "      <td>0</td>\n",
       "      <td>0</td>\n",
       "      <td>0</td>\n",
       "      <td>0</td>\n",
       "      <td>0</td>\n",
       "      <td>0</td>\n",
       "      <td>0</td>\n",
       "      <td>0</td>\n",
       "      <td>0</td>\n",
       "      <td>0</td>\n",
       "      <td>0</td>\n",
       "      <td>1</td>\n",
       "      <td>0</td>\n",
       "      <td>0</td>\n",
       "      <td>2767.0</td>\n",
       "      <td>0</td>\n",
       "      <td>1</td>\n",
       "      <td>1</td>\n",
       "    </tr>\n",
       "    <tr>\n",
       "      <th>431437</th>\n",
       "      <td>Zwönitzer Stout</td>\n",
       "      <td>Brauerei Zwönitz</td>\n",
       "      <td>Stout - Other</td>\n",
       "      <td>3.12</td>\n",
       "      <td>566.0</td>\n",
       "      <td>5.10</td>\n",
       "      <td>NaN</td>\n",
       "      <td>635.0</td>\n",
       "      <td>604.0</td>\n",
       "      <td>27.0</td>\n",
       "      <td>2015-08-08</td>\n",
       "      <td>NaN</td>\n",
       "      <td>1192311</td>\n",
       "      <td>14759</td>\n",
       "      <td>0</td>\n",
       "      <td>0</td>\n",
       "      <td>Brauerei Zwönitz</td>\n",
       "      <td>NaN</td>\n",
       "      <td>Germany</td>\n",
       "      <td>21.0</td>\n",
       "      <td>3483.0</td>\n",
       "      <td>3.22</td>\n",
       "      <td>2011-08-08</td>\n",
       "      <td>222.0</td>\n",
       "      <td>NaN</td>\n",
       "      <td>NaN</td>\n",
       "      <td>4114.0</td>\n",
       "      <td>2528.0</td>\n",
       "      <td>0.0</td>\n",
       "      <td>0.0</td>\n",
       "      <td>...</td>\n",
       "      <td>0.0</td>\n",
       "      <td>0.0</td>\n",
       "      <td>0.0</td>\n",
       "      <td>0</td>\n",
       "      <td>0</td>\n",
       "      <td>0</td>\n",
       "      <td>0</td>\n",
       "      <td>0</td>\n",
       "      <td>0</td>\n",
       "      <td>0</td>\n",
       "      <td>0</td>\n",
       "      <td>0</td>\n",
       "      <td>0</td>\n",
       "      <td>1</td>\n",
       "      <td>0</td>\n",
       "      <td>0</td>\n",
       "      <td>0</td>\n",
       "      <td>0</td>\n",
       "      <td>0</td>\n",
       "      <td>0</td>\n",
       "      <td>0</td>\n",
       "      <td>0</td>\n",
       "      <td>0</td>\n",
       "      <td>1</td>\n",
       "      <td>0</td>\n",
       "      <td>0</td>\n",
       "      <td>14646.0</td>\n",
       "      <td>0</td>\n",
       "      <td>0</td>\n",
       "      <td>0</td>\n",
       "    </tr>\n",
       "  </tbody>\n",
       "</table>\n",
       "<p>5 rows × 143 columns</p>\n",
       "</div>"
      ],
      "text/plain": [
       "                                       name                     brewery  \\\n",
       "59877   Plead The 5th Imperial Stout (2010)      Dark Horse Brewing Co.   \n",
       "680564                              Rye IPA  Lengthwise Brewing Company   \n",
       "245884                         County Brown      Sebago Brewing Company   \n",
       "495700            Barrel Series Barley Wine          Royal City Brewing   \n",
       "431437                      Zwönitzer Stout            Brauerei Zwönitz   \n",
       "\n",
       "                                     style  rating  raters    abv  ibu  \\\n",
       "59877   Stout - American Imperial / Double    4.12   225.0  12.00  NaN   \n",
       "680564                             Rye IPA    3.91   120.0   7.00  NaN   \n",
       "245884                Brown Ale - American    3.50   138.0   5.20  NaN   \n",
       "495700                Barleywine - English    3.57    97.0   8.65  NaN   \n",
       "431437                       Stout - Other    3.12   566.0   5.10  NaN   \n",
       "\n",
       "        total_checkins  unique_checkins  monthly_checkins date_added  \\\n",
       "59877            288.0            270.0               1.0 2011-12-31   \n",
       "680564           162.0            138.0              26.0 2016-12-11   \n",
       "245884           173.0            158.0               0.0 2014-04-19   \n",
       "495700           106.0            101.0               0.0 2015-12-31   \n",
       "431437           635.0            604.0              27.0 2015-08-08   \n",
       "\n",
       "                                              description  beer_id  \\\n",
       "59877   It's big and full bodied with lots of roasted ...   115335   \n",
       "680564                                                NaN  1860431   \n",
       "245884                                Specialty brown ale   654162   \n",
       "495700                                                NaN  1373820   \n",
       "431437                                                NaN  1192311   \n",
       "\n",
       "        brewery_id  oop  has_description                brewery_name  \\\n",
       "59877          426    1                1      Dark Horse Brewing Co.   \n",
       "680564        5102    0                0  Lengthwise Brewing Company   \n",
       "245884        2624    0                1      Sebago Brewing Company   \n",
       "495700       80018    0                0          Royal City Brewing   \n",
       "431437       14759    0                0            Brauerei Zwönitz   \n",
       "\n",
       "                                      brewery_description  \\\n",
       "59877   Some things in life are easily read and some t...   \n",
       "680564  New location: Lengthwise Brewing 7700 District...   \n",
       "245884  Sebago Brewing Company is a Maine-owned and op...   \n",
       "495700  Small Craft Brewery in the East End of Guelph....   \n",
       "431437                                                NaN   \n",
       "\n",
       "                             brewery_location  brewery_num_beers  \\\n",
       "59877      Marshall, MI         United States              486.0   \n",
       "680564  Bakersfield, CA         United States               93.0   \n",
       "245884       Gorham, ME         United States              156.0   \n",
       "495700              Guelph, ON         Canada              244.0   \n",
       "431437                                Germany               21.0   \n",
       "\n",
       "        brewery_raters  brewery_rating date_brewery_added  \\\n",
       "59877         706099.0            3.80         2010-11-06   \n",
       "680564         14191.0            3.83         2010-12-11   \n",
       "245884         68431.0            3.61         2010-11-09   \n",
       "495700         22111.0            3.61         2013-09-07   \n",
       "431437          3483.0            3.22         2011-08-08   \n",
       "\n",
       "        monthly_brewery_checkins subsidiary_id subsidiary_name  \\\n",
       "59877                    14305.0           NaN             NaN   \n",
       "680564                     362.0           NaN             NaN   \n",
       "245884                    1507.0           NaN             NaN   \n",
       "495700                     975.0           NaN             NaN   \n",
       "431437                     222.0           NaN             NaN   \n",
       "\n",
       "        total_brewery_checkins  unique_brewery_checkins  brewery_closed  \\\n",
       "59877                 995116.0                 238087.0             0.0   \n",
       "680564                 20806.0                   5017.0             0.0   \n",
       "245884                 99850.0                  34429.0             0.0   \n",
       "495700                 29046.0                   6414.0             0.0   \n",
       "431437                  4114.0                   2528.0             0.0   \n",
       "\n",
       "        is_subsidiary       ...          WV   WY  brewery_has_description  \\\n",
       "59877             0.0       ...         0.0  0.0                      1.0   \n",
       "680564            0.0       ...         0.0  0.0                      1.0   \n",
       "245884            0.0       ...         0.0  0.0                      1.0   \n",
       "495700            0.0       ...         0.0  0.0                      1.0   \n",
       "431437            0.0       ...         0.0  0.0                      0.0   \n",
       "\n",
       "        in_smokes  in_ryes  in_spiced  in_trad_german  in_trad_brit  \\\n",
       "59877           0        0          0               0             0   \n",
       "680564          0        1          0               0             0   \n",
       "245884          0        0          0               0             0   \n",
       "495700          0        0          0               0             0   \n",
       "431437          0        0          0               0             0   \n",
       "\n",
       "        in_thicks  in_fall_winter  in_lager_lager  in_subpremiums  in_porters  \\\n",
       "59877           0               0               0               0           0   \n",
       "680564          0               0               0               0           0   \n",
       "245884          0               0               0               0           0   \n",
       "495700          1               0               0               0           0   \n",
       "431437          0               0               0               0           0   \n",
       "\n",
       "        in_stouts  in_browns  in_yeasty_belgians  in_light_ales  in_ambers  \\\n",
       "59877           1          0                   0              0          0   \n",
       "680564          0          0                   0              0          0   \n",
       "245884          0          1                   0              0          0   \n",
       "495700          0          0                   0              0          0   \n",
       "431437          1          0                   0              0          0   \n",
       "\n",
       "        in_wheats  in_pilsners  in_sours  in_pale_ales  in_ipas  in_ales  \\\n",
       "59877           0            0         0             0        0        1   \n",
       "680564          0            0         0             0        1        1   \n",
       "245884          0            0         0             0        0        1   \n",
       "495700          0            0         0             0        0        1   \n",
       "431437          0            0         0             0        0        1   \n",
       "\n",
       "        in_lagers  in_others  style_frequency  in_strongs  rating_class  \\\n",
       "59877           0          0           9235.0           0             2   \n",
       "680564          0          0           1109.0           0             1   \n",
       "245884          0          0          10985.0           0             1   \n",
       "495700          0          0           2767.0           0             1   \n",
       "431437          0          0          14646.0           0             0   \n",
       "\n",
       "        predicted_class  \n",
       "59877                 2  \n",
       "680564                1  \n",
       "245884                1  \n",
       "495700                1  \n",
       "431437                0  \n",
       "\n",
       "[5 rows x 143 columns]"
      ]
     },
     "execution_count": 62,
     "metadata": {},
     "output_type": "execute_result"
    }
   ],
   "source": [
    "lil_df.head()"
   ]
  },
  {
   "cell_type": "code",
   "execution_count": 253,
   "metadata": {},
   "outputs": [
    {
     "data": {
      "text/plain": [
       "[('in_ales', 0.11529155105097522),\n",
       " ('monthly_brewery_checkins', 0.11143308179485713),\n",
       " ('style_frequency', 0.066321815740868401),\n",
       " ('United States', 0.063509521312557077),\n",
       " ('unique_brewery_checkins', 0.061039160663275957),\n",
       " ('brewery_num_beers', 0.056888934817405146),\n",
       " ('raters', 0.041853136343407656),\n",
       " ('total_checkins', 0.039159050646855861),\n",
       " ('Macro Brewery', 0.03803672011331545),\n",
       " ('unique_checkins', 0.035579178596556543),\n",
       " ('total_brewery_checkins', 0.033653487439952959),\n",
       " ('brewery_raters', 0.033160149183953103),\n",
       " ('monthly_checkins', 0.029150943077552682),\n",
       " ('in_stouts', 0.028240492048502354),\n",
       " ('in_strongs', 0.020939366671555711),\n",
       " ('official_account', 0.015290411080483625),\n",
       " ('in_sours', 0.014061706406892105),\n",
       " ('has_description', 0.0096578888582058119),\n",
       " ('oop', 0.008283046307154613),\n",
       " ('in_ipas', 0.0072325016976013115),\n",
       " ('brewery_has_description', 0.0067782280789818435),\n",
       " ('in_trad_german', 0.006330734802085178),\n",
       " ('in_thicks', 0.0056791894537867975),\n",
       " ('in_subpremiums', 0.0052465049960081223),\n",
       " ('in_porters', 0.0050018499446208694),\n",
       " ('Micro Brewery', 0.0048234525570606361),\n",
       " ('in_yeasty_belgians', 0.0039561146756630413),\n",
       " ('in_light_ales', 0.0039514038414132421),\n",
       " ('Sweden', 0.0039286169182766659),\n",
       " ('is_subsidiary', 0.0036891736058334034),\n",
       " ('CA', 0.0036460398652065195),\n",
       " ('in_pale_ales', 0.0033916214589521463),\n",
       " ('Cidery / Meadery', 0.0033040721319862638),\n",
       " ('in_others', 0.0031779643209459319),\n",
       " ('Netherlands', 0.0031403257692001439),\n",
       " ('in_wheats', 0.0031059572174955558),\n",
       " ('Canada', 0.0030771966119803314),\n",
       " ('Germany', 0.003051136388043068),\n",
       " ('MI', 0.0030362683957042146),\n",
       " ('in_ambers', 0.0030094878374212321),\n",
       " ('Brew Pub', 0.0028912479538419473),\n",
       " ('Russia', 0.0028074562088535216),\n",
       " ('CO', 0.0026431747232012752),\n",
       " ('Denmark', 0.0026018461460967889),\n",
       " ('in_lagers', 0.0025210961342477301),\n",
       " ('WI', 0.0024176121552127033),\n",
       " ('England', 0.0023187160132838139),\n",
       " ('PA', 0.002286083475053745),\n",
       " ('Belgium', 0.0022292742408225458),\n",
       " ('Finland', 0.0022040050019975534),\n",
       " ('Nano Brewery', 0.0020721282737300932),\n",
       " ('France', 0.0020276266635861229),\n",
       " ('OH', 0.0019867838350587498),\n",
       " ('NY', 0.0019726678270494389),\n",
       " ('IL', 0.0019123750333303697),\n",
       " ('FL', 0.0018523953375485195),\n",
       " ('in_trad_brit', 0.001847346238538762),\n",
       " ('in_lager_lager', 0.0018414937672788436),\n",
       " ('WA', 0.0018072843076995186),\n",
       " ('OR', 0.0016753413164991115),\n",
       " ('Brazil', 0.0015734789017411944),\n",
       " ('TX', 0.0015571941831343326),\n",
       " ('NC', 0.0015044127073509377),\n",
       " ('in_browns', 0.001435417749086089),\n",
       " ('in_fall_winter', 0.0014190202012180947),\n",
       " ('VA', 0.0014072176285545746),\n",
       " ('Spain', 0.0014058903340773143),\n",
       " ('New Zealand', 0.0014003742845457093),\n",
       " ('Norway', 0.0013923022603206092),\n",
       " ('in_pilsners', 0.0013637526549111446),\n",
       " ('VT', 0.001354793345956905),\n",
       " ('Italy', 0.0013510841675704788),\n",
       " ('NJ', 0.0013393927297429536),\n",
       " ('MO', 0.001296308820610293),\n",
       " ('IA', 0.0012413026100180794),\n",
       " ('IN', 0.0012296213957991812),\n",
       " ('GA', 0.0012112843144775206),\n",
       " ('MA', 0.0012051396632708146),\n",
       " ('Czech Republic', 0.0011787387158484022),\n",
       " ('Australia', 0.0011652327194595876),\n",
       " ('MD', 0.0011354453697430774),\n",
       " ('in_spiced', 0.0011224487331024692),\n",
       " ('MN', 0.0011082528593631814),\n",
       " ('ME', 0.00097443316856171138),\n",
       " ('TN', 0.00088163948685123438),\n",
       " ('CT', 0.0008026683495230845),\n",
       " ('in_ryes', 0.00076934486485605899),\n",
       " ('SC', 0.00072067244948784321),\n",
       " ('KY', 0.00067891279044544634),\n",
       " ('AZ', 0.00067271954020713262),\n",
       " ('brewery_closed', 0.00064797800790237549),\n",
       " ('Mexico', 0.00062901307825232811),\n",
       " ('in_smokes', 0.00061625885080399817),\n",
       " ('Scotland', 0.00057255995473747088),\n",
       " ('NV', 0.00055738090412713623),\n",
       " ('DE', 0.0005215716105483613),\n",
       " ('NE', 0.00050994612914895753),\n",
       " ('NM', 0.00049323121511859959),\n",
       " ('LA', 0.00045676472934549315),\n",
       " ('UT', 0.00042063922436903143),\n",
       " ('Home Brewery', 0.00041143915739688599),\n",
       " ('MT', 0.00039616761384519798),\n",
       " ('AK', 0.00039287782209773572),\n",
       " ('NH', 0.00034059513439900518),\n",
       " ('AL', 0.00033209385027807098),\n",
       " ('OK', 0.00030708559406902397),\n",
       " ('ID', 0.00029829681622121353),\n",
       " ('RI', 0.00026737726497239197),\n",
       " ('ND', 0.00026323945060813242),\n",
       " ('AR', 0.00024509550639755553),\n",
       " ('VI', 0.00021613451987897238),\n",
       " ('WY', 0.00019774106467794334),\n",
       " ('KS', 0.00017929078194169978),\n",
       " ('SD', 0.00017421716634437336),\n",
       " ('WV', 0.00012336368906634091),\n",
       " ('HI', 0.00011718901701182163),\n",
       " ('PR', 0.00011240765074990723),\n",
       " ('PW', 8.687155153603222e-05),\n",
       " ('DC', 8.6461301373738693e-05),\n",
       " ('MS', 5.014125147405485e-05),\n",
       " ('GU', 3.0701965836768557e-05),\n",
       " ('Collaboration Brewery', 2.3933750108809274e-05),\n",
       " ('MH', 0.0)]"
      ]
     },
     "execution_count": 253,
     "metadata": {},
     "output_type": "execute_result"
    }
   ],
   "source": [
    "def get_importances(features, scores):\n",
    "    importances = [pair for pair in zip(features, scores)]\n",
    "    return sorted(importances, reverse=True, key=lambda x: x[1])\n",
    "\n",
    "get_importances(features, rfr.feature_importances_)"
   ]
  },
  {
   "cell_type": "code",
   "execution_count": 267,
   "metadata": {
    "scrolled": true
   },
   "outputs": [
    {
     "data": {
      "text/plain": [
       "[('monthly_brewery_checkins', 0.11243299265449844),\n",
       " ('in_stouts', 0.077609215839120935),\n",
       " ('United States', 0.070165208976843946),\n",
       " ('in_ales', 0.05017068538040579),\n",
       " ('in_sours', 0.047716499330261133),\n",
       " ('in_strongs', 0.042439296394086369),\n",
       " ('in_ipas', 0.040642243397992786),\n",
       " ('official_account', 0.037184576972910492),\n",
       " ('in_thicks', 0.029833824953135211),\n",
       " ('in_trad_german', 0.027708458117405948),\n",
       " ('in_porters', 0.027086810081505527),\n",
       " ('Cidery / Meadery', 0.025394791076720557),\n",
       " ('brewery_has_description', 0.020679896141925284),\n",
       " ('Germany', 0.019753238953353073),\n",
       " ('in_yeasty_belgians', 0.019404123870760064),\n",
       " ('Canada', 0.018908654124946283),\n",
       " ('oop', 0.016936118661220665),\n",
       " ('Belgium', 0.016347188319727958),\n",
       " ('has_description', 0.015131980555213686),\n",
       " ('monthly_checkins', 0.013705324680802565),\n",
       " ('raters', 0.011190224474447064),\n",
       " ('Brazil', 0.0087362257575554596),\n",
       " ('New Zealand', 0.0086218979304993771),\n",
       " ('FL', 0.0080536344453889866),\n",
       " ('Italy', 0.0080115314171701618),\n",
       " ('Australia', 0.0077634553930416008),\n",
       " ('in_spiced', 0.0076961265424819571),\n",
       " ('Czech Republic', 0.007501593526876244),\n",
       " ('Nano Brewery', 0.0073099154943489127),\n",
       " ('Home Brewery', 0.0059115062576484351),\n",
       " ('VT', 0.0051004147170302591),\n",
       " ('TX', 0.0050670217579675833),\n",
       " ('IL', 0.0045210181980305485),\n",
       " ('Micro Brewery', 0.0041569331933318521),\n",
       " ('OH', 0.003538960391796726),\n",
       " ('PW', 0.0033259082038459968),\n",
       " ('style_frequency', 0.0032876786315022286),\n",
       " ('in_fall_winter', 0.0027143989164078084),\n",
       " ('GA', 0.0027122357559224014),\n",
       " ('SC', 0.002634522809515827),\n",
       " ('AK', 0.0023536680980117872),\n",
       " ('in_ryes', 0.0023460086445962506),\n",
       " ('England', 0.0022112460714787778),\n",
       " ('NJ', 0.0021836341489187218),\n",
       " ('NM', 0.0021186457548898773),\n",
       " ('IA', 0.0018884201384523891),\n",
       " ('NC', 0.0016804260782793878),\n",
       " ('brewery_num_beers', 0.0014425462226799418),\n",
       " ('ME', 0.00131825744684927),\n",
       " ('CA', 0.0012519236039913824),\n",
       " ('CO', 0.0011857702899857104),\n",
       " ('AL', 0.00074242294021281241),\n",
       " ('MN', 0.00066497304281722233),\n",
       " ('PR', 0.00048970325438642682),\n",
       " ('in_browns', 0.00040369050811664008),\n",
       " ('RI', 0.00036646214372182672),\n",
       " ('CT', 0.00027885688542498535),\n",
       " ('IN', 8.8048201497443996e-05),\n",
       " ('in_smokes', -0.0),\n",
       " ('in_lager_lager', -0.0),\n",
       " ('in_others', 0.0),\n",
       " ('Brew Pub', 0.0),\n",
       " ('brewery_raters', 0.0),\n",
       " ('unique_checkins', 0.0),\n",
       " ('unique_brewery_checkins', 0.0),\n",
       " ('GU', 0.0),\n",
       " ('HI', -0.0),\n",
       " ('LA', 0.0),\n",
       " ('MH', 0.0),\n",
       " ('MS', -0.0),\n",
       " ('MT', 0.0),\n",
       " ('NE', -0.0),\n",
       " ('NH', 0.0),\n",
       " ('OK', -0.0),\n",
       " ('OR', -0.0),\n",
       " ('SD', -0.0),\n",
       " ('UT', 0.0),\n",
       " ('VI', 0.0),\n",
       " ('WA', -0.0),\n",
       " ('WV', -0.0),\n",
       " ('WY', -0.0),\n",
       " ('Russia', -0.0),\n",
       " ('Mexico', -0.0),\n",
       " ('AZ', -0.00033683295919902448),\n",
       " ('AR', -0.00034048245479603766),\n",
       " ('NV', -0.00039818399888981085),\n",
       " ('Scotland', -0.00072505489956389661),\n",
       " ('Collaboration Brewery', -0.00078609109430643489),\n",
       " ('ID', -0.00100621641706689),\n",
       " ('ND', -0.0010296027126534628),\n",
       " ('DE', -0.0011294812984612092),\n",
       " ('DC', -0.0012628852766554224),\n",
       " ('in_pilsners', -0.0013299283653035938),\n",
       " ('KS', -0.0016661049627553718),\n",
       " ('MA', -0.0023094438117547381),\n",
       " ('Denmark', -0.0023303924331457906),\n",
       " ('TN', -0.0023714126700137279),\n",
       " ('NY', -0.0027803610153752417),\n",
       " ('VA', -0.0028627867021885941),\n",
       " ('PA', -0.0032757189889361469),\n",
       " ('MI', -0.0033106456890741312),\n",
       " ('MO', -0.0033300287137296579),\n",
       " ('in_trad_brit', -0.0033625827227722377),\n",
       " ('KY', -0.0036887815232271195),\n",
       " ('Norway', -0.004458336096204718),\n",
       " ('in_pale_ales', -0.0049409647810228323),\n",
       " ('France', -0.0051908922977314254),\n",
       " ('MD', -0.0056483766796806226),\n",
       " ('in_ambers', -0.0066026257727084302),\n",
       " ('Spain', -0.0066654637272489875),\n",
       " ('WI', -0.0079965087339890096),\n",
       " ('is_subsidiary', -0.0083755333007643346),\n",
       " ('in_wheats', -0.0090503195905303931),\n",
       " ('Netherlands', -0.012388304820942874),\n",
       " ('Finland', -0.013398915695785524),\n",
       " ('in_light_ales', -0.015450047601798031),\n",
       " ('Sweden', -0.015820333019393874),\n",
       " ('total_checkins', -0.018277964820624829),\n",
       " ('in_subpremiums', -0.019325110875457741),\n",
       " ('brewery_closed', -0.019380947868290446),\n",
       " ('in_lagers', -0.023816860945517694),\n",
       " ('Macro Brewery', -0.047029611606637212),\n",
       " ('total_brewery_checkins', -0.093140703489976898)]"
      ]
     },
     "execution_count": 267,
     "metadata": {},
     "output_type": "execute_result"
    }
   ],
   "source": [
    "get_importances(features, la.coef_)"
   ]
  },
  {
   "cell_type": "code",
   "execution_count": 254,
   "metadata": {
    "scrolled": true
   },
   "outputs": [
    {
     "name": "stderr",
     "output_type": "stream",
     "text": [
      "//anaconda/lib/python3.6/site-packages/sklearn/feature_selection/univariate_selection.py:113: UserWarning: Features [70] are constant.\n",
      "  UserWarning)\n",
      "//anaconda/lib/python3.6/site-packages/sklearn/feature_selection/univariate_selection.py:114: RuntimeWarning: invalid value encountered in true_divide\n",
      "  f = msb / msw\n"
     ]
    },
    {
     "data": {
      "text/plain": [
       "[('in_ales', 24.350138475842105),\n",
       " ('total_checkins', 23.13647845560299),\n",
       " ('in_lagers', 22.71789341113163),\n",
       " ('Macro Brewery', 22.248081681779119),\n",
       " ('official_account', 18.641794567579552),\n",
       " ('monthly_checkins', 16.568926098577847),\n",
       " ('in_subpremiums', 16.203875017454838),\n",
       " ('unique_checkins', 14.953268038268478),\n",
       " ('in_lager_lager', 14.073630253231157),\n",
       " ('raters', 13.86097328543797),\n",
       " ('in_stouts', 13.161728013373798),\n",
       " ('brewery_has_description', 8.806012400208342),\n",
       " ('in_strongs', 8.4094081680411001),\n",
       " ('is_subsidiary', 7.5899254809162882),\n",
       " ('in_pilsners', 7.4293281109266411),\n",
       " ('monthly_brewery_checkins', 6.829013598590234),\n",
       " ('in_ipas', 6.8087527911286552),\n",
       " ('unique_brewery_checkins', 5.4479576493797337),\n",
       " ('total_brewery_checkins', 5.377163143643406),\n",
       " ('in_sours', 5.29744427689125),\n",
       " ('brewery_raters', 5.2741962082873135),\n",
       " ('style_frequency', 4.7351718758234043),\n",
       " ('in_others', 4.5723933329288169),\n",
       " ('Micro Brewery', 4.5288626789498974),\n",
       " ('oop', 4.4830675630404322),\n",
       " ('in_light_ales', 3.5930272915489256),\n",
       " ('brewery_num_beers', 3.5450666929942503),\n",
       " ('in_pale_ales', 3.3171065858758308),\n",
       " ('has_description', 3.2390521760782134),\n",
       " ('CA', 2.7521889452059765),\n",
       " ('in_wheats', 2.5503267660171209),\n",
       " ('IA', 2.3616315284506273),\n",
       " ('in_yeasty_belgians', 2.1557946862318165),\n",
       " ('in_thicks', 2.0862362631819229),\n",
       " ('Collaboration Brewery', 1.9661033831740542),\n",
       " ('in_ambers', 1.888345263015111),\n",
       " ('in_porters', 1.8522867519941797),\n",
       " ('FL', 1.7575666978471327),\n",
       " ('in_trad_brit', 1.7504057936925088),\n",
       " ('in_trad_german', 1.5981088141828912),\n",
       " ('brewery_closed', 1.487678025207982),\n",
       " ('Brew Pub', 1.3479565897576848),\n",
       " ('CO', 1.2611755206877999),\n",
       " ('in_spiced', 1.1494219251336162),\n",
       " ('Cidery / Meadery', 1.1083719429797674),\n",
       " ('GA', 1.0748747722247047),\n",
       " ('DE', 1.0254844350925154),\n",
       " ('in_browns', 0.99845438308670331),\n",
       " ('in_ryes', 0.76210366859439704),\n",
       " ('Nano Brewery', 0.76010662597736722),\n",
       " ('in_fall_winter', 0.70318441842447266),\n",
       " ('AL', 0.65768896994840997),\n",
       " ('in_smokes', 0.65000729322173989),\n",
       " ('Home Brewery', 0.64733522377973285),\n",
       " ('DC', 0.64148956132919732),\n",
       " ('AK', 0.62425382032212773),\n",
       " ('CT', 0.62139905307111287),\n",
       " ('AZ', 0.56222666368276597),\n",
       " ('AR', 0.44757665491411547),\n",
       " ('HI', 0.44152820206594501),\n",
       " ('GU', 0.43530351129439776),\n",
       " ('MH', nan),\n",
       " ('United States', 21.081381892904247),\n",
       " ('Netherlands', 5.7667601099139567),\n",
       " ('MO', 5.562941068888188),\n",
       " ('France', 4.3184400997585151),\n",
       " ('Finland', 3.9607139233682895),\n",
       " ('Russia', 3.9156807621883698),\n",
       " ('Sweden', 3.6476531000726666),\n",
       " ('Germany', 3.4307053872480475),\n",
       " ('England', 3.253707305373343),\n",
       " ('Spain', 3.1290819684827422),\n",
       " ('Denmark', 2.6696527303755784),\n",
       " ('Belgium', 2.4843409541972714),\n",
       " ('Czech Republic', 2.2460395498609187),\n",
       " ('VT', 2.1154323129529273),\n",
       " ('IL', 2.0738195808029012),\n",
       " ('Brazil', 1.9114740986380305),\n",
       " ('OK', 1.597421538595108),\n",
       " ('Norway', 1.5121740485993589),\n",
       " ('Mexico', 1.4967893497800218),\n",
       " ('WI', 1.3928749728775738),\n",
       " ('Italy', 1.1972909471285365),\n",
       " ('MI', 1.1702633173994592),\n",
       " ('OH', 1.1323802365768771),\n",
       " ('IN', 1.1163881776458093),\n",
       " ('NC', 1.0789760084093496),\n",
       " ('MA', 1.0496144943610004),\n",
       " ('VA', 1.0123035329304639),\n",
       " ('NJ', 0.98068501656131835),\n",
       " ('TX', 0.97974675437896541),\n",
       " ('Canada', 0.96505714471476611),\n",
       " ('Australia', 0.93728339146876871),\n",
       " ('ME', 0.91941824235778957),\n",
       " ('OR', 0.89453698382575186),\n",
       " ('WA', 0.8818058263848797),\n",
       " ('ND', 0.87727683314964244),\n",
       " ('Scotland', 0.8622680941883818),\n",
       " ('UT', 0.8460583172870656),\n",
       " ('PA', 0.84213248828517528),\n",
       " ('VI', 0.80692612002373221),\n",
       " ('LA', 0.79726350054860706),\n",
       " ('SC', 0.77999264703521121),\n",
       " ('New Zealand', 0.77124501759923902),\n",
       " ('NY', 0.74501346978471572),\n",
       " ('MN', 0.68678591380686793),\n",
       " ('MD', 0.68226480197072026),\n",
       " ('RI', 0.6511439000638547),\n",
       " ('WY', 0.64222109225966362),\n",
       " ('TN', 0.62412926719029516),\n",
       " ('KY', 0.58883489067843253),\n",
       " ('MS', 0.58874031933513959),\n",
       " ('NV', 0.54670981530675211),\n",
       " ('NH', 0.51508943916180627),\n",
       " ('NM', 0.49207284340111546),\n",
       " ('MT', 0.48307534655026851),\n",
       " ('WV', 0.47505219315167452),\n",
       " ('PR', 0.46998893154136118),\n",
       " ('SD', 0.46259706548583851),\n",
       " ('PW', 0.45178957363168931),\n",
       " ('KS', 0.42893607418362467),\n",
       " ('NE', 0.41839779507934244),\n",
       " ('ID', 0.33999797121699549)]"
      ]
     },
     "execution_count": 254,
     "metadata": {},
     "output_type": "execute_result"
    }
   ],
   "source": [
    "kbest = SelectKBest(k=len(features))\n",
    "kbest.fit_transform(lil_x, lil_y)\n",
    "get_importances(features, kbest.scores_)"
   ]
  },
  {
   "cell_type": "code",
   "execution_count": 203,
   "metadata": {},
   "outputs": [
    {
     "name": "stdout",
     "output_type": "stream",
     "text": [
      "Fitting estimator with 64 features.\n",
      "Fitting estimator with 63 features.\n",
      "Fitting estimator with 62 features.\n",
      "Fitting estimator with 61 features.\n",
      "Fitting estimator with 60 features.\n",
      "Fitting estimator with 59 features.\n",
      "Fitting estimator with 58 features.\n",
      "Fitting estimator with 57 features.\n",
      "Fitting estimator with 56 features.\n",
      "Fitting estimator with 55 features.\n",
      "Fitting estimator with 54 features.\n",
      "Fitting estimator with 53 features.\n",
      "Fitting estimator with 52 features.\n",
      "Fitting estimator with 51 features.\n",
      "Fitting estimator with 50 features.\n",
      "Fitting estimator with 49 features.\n",
      "Fitting estimator with 48 features.\n",
      "Fitting estimator with 47 features.\n",
      "Fitting estimator with 46 features.\n",
      "Fitting estimator with 45 features.\n",
      "Fitting estimator with 44 features.\n",
      "Fitting estimator with 43 features.\n",
      "Fitting estimator with 42 features.\n",
      "Fitting estimator with 41 features.\n",
      "Fitting estimator with 40 features.\n",
      "Fitting estimator with 39 features.\n",
      "Fitting estimator with 38 features.\n",
      "Fitting estimator with 37 features.\n",
      "Fitting estimator with 36 features.\n",
      "Fitting estimator with 35 features.\n",
      "Fitting estimator with 34 features.\n",
      "Fitting estimator with 33 features.\n",
      "Fitting estimator with 32 features.\n",
      "Fitting estimator with 31 features.\n",
      "Fitting estimator with 30 features.\n",
      "Fitting estimator with 29 features.\n",
      "Fitting estimator with 28 features.\n",
      "Fitting estimator with 27 features.\n",
      "Fitting estimator with 26 features.\n",
      "Fitting estimator with 25 features.\n",
      "Fitting estimator with 24 features.\n",
      "Fitting estimator with 23 features.\n",
      "Fitting estimator with 22 features.\n",
      "Fitting estimator with 21 features.\n",
      "Fitting estimator with 20 features.\n",
      "Fitting estimator with 19 features.\n",
      "Fitting estimator with 18 features.\n",
      "Fitting estimator with 17 features.\n",
      "Fitting estimator with 16 features.\n",
      "Fitting estimator with 15 features.\n",
      "Fitting estimator with 14 features.\n",
      "Fitting estimator with 13 features.\n",
      "Fitting estimator with 12 features.\n",
      "Fitting estimator with 11 features.\n",
      "Fitting estimator with 10 features.\n",
      "Fitting estimator with 9 features.\n",
      "Fitting estimator with 8 features.\n",
      "Fitting estimator with 7 features.\n",
      "Fitting estimator with 6 features.\n",
      "Fitting estimator with 5 features.\n",
      "Fitting estimator with 4 features.\n",
      "Fitting estimator with 3 features.\n",
      "Fitting estimator with 2 features.\n"
     ]
    },
    {
     "data": {
      "text/plain": [
       "[('monthly_brewery_checkins', 1),\n",
       " ('style_frequency', 2),\n",
       " ('brewery_num_beers', 3),\n",
       " ('total_checkins', 4),\n",
       " ('unique_brewery_checkins', 5),\n",
       " ('in_ales', 6),\n",
       " ('United States', 7),\n",
       " ('brewery_raters', 8),\n",
       " ('raters', 9),\n",
       " ('total_brewery_checkins', 10),\n",
       " ('unique_checkins', 11),\n",
       " ('monthly_checkins', 12),\n",
       " ('Macro Brewery', 13),\n",
       " ('in_stouts', 14),\n",
       " ('official_account', 15),\n",
       " ('in_ipas', 16),\n",
       " ('in_sours', 17),\n",
       " ('in_lagers', 18),\n",
       " ('oop', 19),\n",
       " ('Micro Brewery', 20),\n",
       " ('in_subpremiums', 21),\n",
       " ('in_yeasty_belgians', 22),\n",
       " ('in_porters', 23),\n",
       " ('in_thicks', 24),\n",
       " ('in_trad_german', 25),\n",
       " ('Cidery / Meadery', 26),\n",
       " ('in_light_ales', 27),\n",
       " ('Sweden', 28),\n",
       " ('Germany', 29),\n",
       " ('in_pale_ales', 30),\n",
       " ('Brew Pub', 31),\n",
       " ('is_subsidiary', 32),\n",
       " ('in_others', 33),\n",
       " ('in_wheats', 34),\n",
       " ('Canada', 35),\n",
       " ('in_trad_brit', 36),\n",
       " ('Finland', 37),\n",
       " ('England', 38),\n",
       " ('Nano Brewery', 39),\n",
       " ('in_ambers', 40),\n",
       " ('Brazil', 41),\n",
       " ('Russia', 42),\n",
       " ('Denmark', 43),\n",
       " ('in_browns', 44),\n",
       " ('France', 45),\n",
       " ('Netherlands', 46),\n",
       " ('Norway', 47),\n",
       " ('Spain', 48),\n",
       " ('Belgium', 49),\n",
       " ('Czech Republic', 50),\n",
       " ('Italy', 51),\n",
       " ('in_fall_winter', 52),\n",
       " ('Australia', 53),\n",
       " ('in_spiced', 54),\n",
       " ('in_lager_lager', 55),\n",
       " ('in_pilsners', 56),\n",
       " ('in_ryes', 57),\n",
       " ('Mexico', 58),\n",
       " ('Scotland', 59),\n",
       " ('New Zealand', 60),\n",
       " ('in_smokes', 61),\n",
       " ('brewery_closed', 62),\n",
       " ('Collaboration Brewery', 63),\n",
       " ('Home Brewery', 64)]"
      ]
     },
     "execution_count": 203,
     "metadata": {},
     "output_type": "execute_result"
    }
   ],
   "source": [
    "rfr2 = RandomForestRegressor(n_jobs=-1)\n",
    "selector = RFE(rfr2, 1, step=1, verbose=10)\n",
    "selector.fit(lil_x, lil_y)\n",
    "importances = [pair for pair in zip(features, selector.ranking_)]\n",
    "sorted(importances, reverse=False, key=lambda x: x[1])"
   ]
  },
  {
   "cell_type": "markdown",
   "metadata": {},
   "source": [
    "# Classification Work"
   ]
  },
  {
   "cell_type": "code",
   "execution_count": 327,
   "metadata": {
    "collapsed": true
   },
   "outputs": [],
   "source": [
    "equal_classes = pd.concat([heads, hearts, tails])"
   ]
  },
  {
   "cell_type": "code",
   "execution_count": 296,
   "metadata": {
    "collapsed": true
   },
   "outputs": [],
   "source": []
  },
  {
   "cell_type": "code",
   "execution_count": 328,
   "metadata": {
    "collapsed": true
   },
   "outputs": [],
   "source": [
    "lil_df = equal_classes.sample(10000)"
   ]
  },
  {
   "cell_type": "code",
   "execution_count": 329,
   "metadata": {},
   "outputs": [],
   "source": [
    "y = lil_df['rating_class'].values\n",
    "x = lil_df[features]"
   ]
  },
  {
   "cell_type": "code",
   "execution_count": 330,
   "metadata": {},
   "outputs": [
    {
     "name": "stdout",
     "output_type": "stream",
     "text": [
      "(7500, 125) (2500, 125) (7500,) (2500,)\n"
     ]
    }
   ],
   "source": [
    "x_train, x_test, y_train, y_test = train_test_split(x, y)\n",
    "print(x_train.shape, x_test.shape, y_train.shape, y_test.shape)"
   ]
  },
  {
   "cell_type": "code",
   "execution_count": 331,
   "metadata": {
    "scrolled": true
   },
   "outputs": [
    {
     "name": "stdout",
     "output_type": "stream",
     "text": [
      "RandomForestRegressor(bootstrap=True, criterion='mse', max_depth=None,\n",
      "           max_features='auto', max_leaf_nodes=None,\n",
      "           min_impurity_split=1e-07, min_samples_leaf=1,\n",
      "           min_samples_split=2, min_weight_fraction_leaf=0.0,\n",
      "           n_estimators=100, n_jobs=-1, oob_score=False, random_state=None,\n",
      "           verbose=0, warm_start=False)\n",
      "Training set r score:  0.938191802594\n",
      "Test set r score:  0.533081861389\n",
      "Mean Absolute Error on Test Set: 0.413928\n",
      "Mean Squared Error on Test Set: 0.29693984\n"
     ]
    },
    {
     "ename": "KeyboardInterrupt",
     "evalue": "",
     "output_type": "error",
     "traceback": [
      "\u001b[0;31m---------------------------------------------------------------------------\u001b[0m",
      "\u001b[0;31mKeyboardInterrupt\u001b[0m                         Traceback (most recent call last)",
      "\u001b[0;32m<ipython-input-331-04fcebc00bb0>\u001b[0m in \u001b[0;36m<module>\u001b[0;34m()\u001b[0m\n\u001b[1;32m      1\u001b[0m \u001b[0mtest_rfr\u001b[0m \u001b[0;34m=\u001b[0m \u001b[0mRandomForestRegressor\u001b[0m\u001b[0;34m(\u001b[0m\u001b[0mn_estimators\u001b[0m\u001b[0;34m=\u001b[0m\u001b[0;36m100\u001b[0m\u001b[0;34m,\u001b[0m \u001b[0mn_jobs\u001b[0m\u001b[0;34m=\u001b[0m\u001b[0;34m-\u001b[0m\u001b[0;36m1\u001b[0m\u001b[0;34m)\u001b[0m\u001b[0;34m\u001b[0m\u001b[0m\n\u001b[0;32m----> 2\u001b[0;31m \u001b[0mrun_regression_model\u001b[0m\u001b[0;34m(\u001b[0m\u001b[0mx_train\u001b[0m\u001b[0;34m,\u001b[0m \u001b[0mx_test\u001b[0m\u001b[0;34m,\u001b[0m \u001b[0my_train\u001b[0m\u001b[0;34m,\u001b[0m \u001b[0my_test\u001b[0m\u001b[0;34m,\u001b[0m \u001b[0mtest_rfr\u001b[0m\u001b[0;34m)\u001b[0m\u001b[0;34m\u001b[0m\u001b[0m\n\u001b[0m",
      "\u001b[0;32m<ipython-input-133-bc065feedb5a>\u001b[0m in \u001b[0;36mrun_regression_model\u001b[0;34m(x_train, x_test, y_train, y_test, model)\u001b[0m\n\u001b[1;32m     47\u001b[0m     \u001b[0mplt\u001b[0m\u001b[0;34m.\u001b[0m\u001b[0mxlabel\u001b[0m\u001b[0;34m(\u001b[0m\u001b[0;34m'Actual Score'\u001b[0m\u001b[0;34m)\u001b[0m\u001b[0;34m\u001b[0m\u001b[0m\n\u001b[1;32m     48\u001b[0m     \u001b[0mplt\u001b[0m\u001b[0;34m.\u001b[0m\u001b[0mplot\u001b[0m\u001b[0;34m(\u001b[0m\u001b[0;34m[\u001b[0m\u001b[0;36m0\u001b[0m\u001b[0;34m,\u001b[0m \u001b[0;36m5\u001b[0m\u001b[0;34m]\u001b[0m\u001b[0;34m,\u001b[0m \u001b[0;34m[\u001b[0m\u001b[0;36m0\u001b[0m\u001b[0;34m,\u001b[0m \u001b[0;36m5\u001b[0m\u001b[0;34m]\u001b[0m\u001b[0;34m)\u001b[0m\u001b[0;34m\u001b[0m\u001b[0m\n\u001b[0;32m---> 49\u001b[0;31m     \u001b[0mplt\u001b[0m\u001b[0;34m.\u001b[0m\u001b[0mshow\u001b[0m\u001b[0;34m(\u001b[0m\u001b[0;34m)\u001b[0m\u001b[0;34m\u001b[0m\u001b[0m\n\u001b[0m\u001b[1;32m     50\u001b[0m     \u001b[0mplt\u001b[0m\u001b[0;34m.\u001b[0m\u001b[0mclf\u001b[0m\u001b[0;34m(\u001b[0m\u001b[0;34m)\u001b[0m\u001b[0;34m\u001b[0m\u001b[0m\n\u001b[1;32m     51\u001b[0m \u001b[0;34m\u001b[0m\u001b[0m\n",
      "\u001b[0;32m//anaconda/lib/python3.6/site-packages/matplotlib/pyplot.py\u001b[0m in \u001b[0;36mshow\u001b[0;34m(*args, **kw)\u001b[0m\n\u001b[1;32m    251\u001b[0m     \"\"\"\n\u001b[1;32m    252\u001b[0m     \u001b[0;32mglobal\u001b[0m \u001b[0m_show\u001b[0m\u001b[0;34m\u001b[0m\u001b[0m\n\u001b[0;32m--> 253\u001b[0;31m     \u001b[0;32mreturn\u001b[0m \u001b[0m_show\u001b[0m\u001b[0;34m(\u001b[0m\u001b[0;34m*\u001b[0m\u001b[0margs\u001b[0m\u001b[0;34m,\u001b[0m \u001b[0;34m**\u001b[0m\u001b[0mkw\u001b[0m\u001b[0;34m)\u001b[0m\u001b[0;34m\u001b[0m\u001b[0m\n\u001b[0m\u001b[1;32m    254\u001b[0m \u001b[0;34m\u001b[0m\u001b[0m\n\u001b[1;32m    255\u001b[0m \u001b[0;34m\u001b[0m\u001b[0m\n",
      "\u001b[0;32m//anaconda/lib/python3.6/site-packages/ipykernel/pylab/backend_inline.py\u001b[0m in \u001b[0;36mshow\u001b[0;34m(close, block)\u001b[0m\n\u001b[1;32m     34\u001b[0m     \u001b[0;32mtry\u001b[0m\u001b[0;34m:\u001b[0m\u001b[0;34m\u001b[0m\u001b[0m\n\u001b[1;32m     35\u001b[0m         \u001b[0;32mfor\u001b[0m \u001b[0mfigure_manager\u001b[0m \u001b[0;32min\u001b[0m \u001b[0mGcf\u001b[0m\u001b[0;34m.\u001b[0m\u001b[0mget_all_fig_managers\u001b[0m\u001b[0;34m(\u001b[0m\u001b[0;34m)\u001b[0m\u001b[0;34m:\u001b[0m\u001b[0;34m\u001b[0m\u001b[0m\n\u001b[0;32m---> 36\u001b[0;31m             \u001b[0mdisplay\u001b[0m\u001b[0;34m(\u001b[0m\u001b[0mfigure_manager\u001b[0m\u001b[0;34m.\u001b[0m\u001b[0mcanvas\u001b[0m\u001b[0;34m.\u001b[0m\u001b[0mfigure\u001b[0m\u001b[0;34m)\u001b[0m\u001b[0;34m\u001b[0m\u001b[0m\n\u001b[0m\u001b[1;32m     37\u001b[0m     \u001b[0;32mfinally\u001b[0m\u001b[0;34m:\u001b[0m\u001b[0;34m\u001b[0m\u001b[0m\n\u001b[1;32m     38\u001b[0m         \u001b[0mshow\u001b[0m\u001b[0;34m.\u001b[0m\u001b[0m_to_draw\u001b[0m \u001b[0;34m=\u001b[0m \u001b[0;34m[\u001b[0m\u001b[0;34m]\u001b[0m\u001b[0;34m\u001b[0m\u001b[0m\n",
      "\u001b[0;32m//anaconda/lib/python3.6/site-packages/IPython/core/display.py\u001b[0m in \u001b[0;36mdisplay\u001b[0;34m(*objs, **kwargs)\u001b[0m\n\u001b[1;32m    162\u001b[0m             \u001b[0mpublish_display_data\u001b[0m\u001b[0;34m(\u001b[0m\u001b[0mdata\u001b[0m\u001b[0;34m=\u001b[0m\u001b[0mobj\u001b[0m\u001b[0;34m,\u001b[0m \u001b[0mmetadata\u001b[0m\u001b[0;34m=\u001b[0m\u001b[0mmetadata\u001b[0m\u001b[0;34m)\u001b[0m\u001b[0;34m\u001b[0m\u001b[0m\n\u001b[1;32m    163\u001b[0m         \u001b[0;32melse\u001b[0m\u001b[0;34m:\u001b[0m\u001b[0;34m\u001b[0m\u001b[0m\n\u001b[0;32m--> 164\u001b[0;31m             \u001b[0mformat_dict\u001b[0m\u001b[0;34m,\u001b[0m \u001b[0mmd_dict\u001b[0m \u001b[0;34m=\u001b[0m \u001b[0mformat\u001b[0m\u001b[0;34m(\u001b[0m\u001b[0mobj\u001b[0m\u001b[0;34m,\u001b[0m \u001b[0minclude\u001b[0m\u001b[0;34m=\u001b[0m\u001b[0minclude\u001b[0m\u001b[0;34m,\u001b[0m \u001b[0mexclude\u001b[0m\u001b[0;34m=\u001b[0m\u001b[0mexclude\u001b[0m\u001b[0;34m)\u001b[0m\u001b[0;34m\u001b[0m\u001b[0m\n\u001b[0m\u001b[1;32m    165\u001b[0m             \u001b[0;32mif\u001b[0m \u001b[0;32mnot\u001b[0m \u001b[0mformat_dict\u001b[0m\u001b[0;34m:\u001b[0m\u001b[0;34m\u001b[0m\u001b[0m\n\u001b[1;32m    166\u001b[0m                 \u001b[0;31m# nothing to display (e.g. _ipython_display_ took over)\u001b[0m\u001b[0;34m\u001b[0m\u001b[0;34m\u001b[0m\u001b[0m\n",
      "\u001b[0;32m//anaconda/lib/python3.6/site-packages/IPython/core/formatters.py\u001b[0m in \u001b[0;36mformat\u001b[0;34m(self, obj, include, exclude)\u001b[0m\n\u001b[1;32m    143\u001b[0m             \u001b[0mmd\u001b[0m \u001b[0;34m=\u001b[0m \u001b[0;32mNone\u001b[0m\u001b[0;34m\u001b[0m\u001b[0m\n\u001b[1;32m    144\u001b[0m             \u001b[0;32mtry\u001b[0m\u001b[0;34m:\u001b[0m\u001b[0;34m\u001b[0m\u001b[0m\n\u001b[0;32m--> 145\u001b[0;31m                 \u001b[0mdata\u001b[0m \u001b[0;34m=\u001b[0m \u001b[0mformatter\u001b[0m\u001b[0;34m(\u001b[0m\u001b[0mobj\u001b[0m\u001b[0;34m)\u001b[0m\u001b[0;34m\u001b[0m\u001b[0m\n\u001b[0m\u001b[1;32m    146\u001b[0m             \u001b[0;32mexcept\u001b[0m\u001b[0;34m:\u001b[0m\u001b[0;34m\u001b[0m\u001b[0m\n\u001b[1;32m    147\u001b[0m                 \u001b[0;31m# FIXME: log the exception\u001b[0m\u001b[0;34m\u001b[0m\u001b[0;34m\u001b[0m\u001b[0m\n",
      "\u001b[0;32m<decorator-gen-9>\u001b[0m in \u001b[0;36m__call__\u001b[0;34m(self, obj)\u001b[0m\n",
      "\u001b[0;32m//anaconda/lib/python3.6/site-packages/IPython/core/formatters.py\u001b[0m in \u001b[0;36mcatch_format_error\u001b[0;34m(method, self, *args, **kwargs)\u001b[0m\n\u001b[1;32m    188\u001b[0m     \u001b[0;34m\"\"\"show traceback on failed format call\"\"\"\u001b[0m\u001b[0;34m\u001b[0m\u001b[0m\n\u001b[1;32m    189\u001b[0m     \u001b[0;32mtry\u001b[0m\u001b[0;34m:\u001b[0m\u001b[0;34m\u001b[0m\u001b[0m\n\u001b[0;32m--> 190\u001b[0;31m         \u001b[0mr\u001b[0m \u001b[0;34m=\u001b[0m \u001b[0mmethod\u001b[0m\u001b[0;34m(\u001b[0m\u001b[0mself\u001b[0m\u001b[0;34m,\u001b[0m \u001b[0;34m*\u001b[0m\u001b[0margs\u001b[0m\u001b[0;34m,\u001b[0m \u001b[0;34m**\u001b[0m\u001b[0mkwargs\u001b[0m\u001b[0;34m)\u001b[0m\u001b[0;34m\u001b[0m\u001b[0m\n\u001b[0m\u001b[1;32m    191\u001b[0m     \u001b[0;32mexcept\u001b[0m \u001b[0mNotImplementedError\u001b[0m\u001b[0;34m:\u001b[0m\u001b[0;34m\u001b[0m\u001b[0m\n\u001b[1;32m    192\u001b[0m         \u001b[0;31m# don't warn on NotImplementedErrors\u001b[0m\u001b[0;34m\u001b[0m\u001b[0;34m\u001b[0m\u001b[0m\n",
      "\u001b[0;32m//anaconda/lib/python3.6/site-packages/IPython/core/formatters.py\u001b[0m in \u001b[0;36m__call__\u001b[0;34m(self, obj)\u001b[0m\n\u001b[1;32m    305\u001b[0m                 \u001b[0;32mpass\u001b[0m\u001b[0;34m\u001b[0m\u001b[0m\n\u001b[1;32m    306\u001b[0m             \u001b[0;32melse\u001b[0m\u001b[0;34m:\u001b[0m\u001b[0;34m\u001b[0m\u001b[0m\n\u001b[0;32m--> 307\u001b[0;31m                 \u001b[0;32mreturn\u001b[0m \u001b[0mprinter\u001b[0m\u001b[0;34m(\u001b[0m\u001b[0mobj\u001b[0m\u001b[0;34m)\u001b[0m\u001b[0;34m\u001b[0m\u001b[0m\n\u001b[0m\u001b[1;32m    308\u001b[0m             \u001b[0;31m# Finally look for special method names\u001b[0m\u001b[0;34m\u001b[0m\u001b[0;34m\u001b[0m\u001b[0m\n\u001b[1;32m    309\u001b[0m             \u001b[0mmethod\u001b[0m \u001b[0;34m=\u001b[0m \u001b[0mget_real_method\u001b[0m\u001b[0;34m(\u001b[0m\u001b[0mobj\u001b[0m\u001b[0;34m,\u001b[0m \u001b[0mself\u001b[0m\u001b[0;34m.\u001b[0m\u001b[0mprint_method\u001b[0m\u001b[0;34m)\u001b[0m\u001b[0;34m\u001b[0m\u001b[0m\n",
      "\u001b[0;32m//anaconda/lib/python3.6/site-packages/IPython/core/pylabtools.py\u001b[0m in \u001b[0;36m<lambda>\u001b[0;34m(fig)\u001b[0m\n\u001b[1;32m    225\u001b[0m \u001b[0;34m\u001b[0m\u001b[0m\n\u001b[1;32m    226\u001b[0m     \u001b[0;32mif\u001b[0m \u001b[0;34m'png'\u001b[0m \u001b[0;32min\u001b[0m \u001b[0mformats\u001b[0m\u001b[0;34m:\u001b[0m\u001b[0;34m\u001b[0m\u001b[0m\n\u001b[0;32m--> 227\u001b[0;31m         \u001b[0mpng_formatter\u001b[0m\u001b[0;34m.\u001b[0m\u001b[0mfor_type\u001b[0m\u001b[0;34m(\u001b[0m\u001b[0mFigure\u001b[0m\u001b[0;34m,\u001b[0m \u001b[0;32mlambda\u001b[0m \u001b[0mfig\u001b[0m\u001b[0;34m:\u001b[0m \u001b[0mprint_figure\u001b[0m\u001b[0;34m(\u001b[0m\u001b[0mfig\u001b[0m\u001b[0;34m,\u001b[0m \u001b[0;34m'png'\u001b[0m\u001b[0;34m,\u001b[0m \u001b[0;34m**\u001b[0m\u001b[0mkwargs\u001b[0m\u001b[0;34m)\u001b[0m\u001b[0;34m)\u001b[0m\u001b[0;34m\u001b[0m\u001b[0m\n\u001b[0m\u001b[1;32m    228\u001b[0m     \u001b[0;32mif\u001b[0m \u001b[0;34m'retina'\u001b[0m \u001b[0;32min\u001b[0m \u001b[0mformats\u001b[0m \u001b[0;32mor\u001b[0m \u001b[0;34m'png2x'\u001b[0m \u001b[0;32min\u001b[0m \u001b[0mformats\u001b[0m\u001b[0;34m:\u001b[0m\u001b[0;34m\u001b[0m\u001b[0m\n\u001b[1;32m    229\u001b[0m         \u001b[0mpng_formatter\u001b[0m\u001b[0;34m.\u001b[0m\u001b[0mfor_type\u001b[0m\u001b[0;34m(\u001b[0m\u001b[0mFigure\u001b[0m\u001b[0;34m,\u001b[0m \u001b[0;32mlambda\u001b[0m \u001b[0mfig\u001b[0m\u001b[0;34m:\u001b[0m \u001b[0mretina_figure\u001b[0m\u001b[0;34m(\u001b[0m\u001b[0mfig\u001b[0m\u001b[0;34m,\u001b[0m \u001b[0;34m**\u001b[0m\u001b[0mkwargs\u001b[0m\u001b[0;34m)\u001b[0m\u001b[0;34m)\u001b[0m\u001b[0;34m\u001b[0m\u001b[0m\n",
      "\u001b[0;32m//anaconda/lib/python3.6/site-packages/IPython/core/pylabtools.py\u001b[0m in \u001b[0;36mprint_figure\u001b[0;34m(fig, fmt, bbox_inches, **kwargs)\u001b[0m\n\u001b[1;32m    117\u001b[0m \u001b[0;34m\u001b[0m\u001b[0m\n\u001b[1;32m    118\u001b[0m     \u001b[0mbytes_io\u001b[0m \u001b[0;34m=\u001b[0m \u001b[0mBytesIO\u001b[0m\u001b[0;34m(\u001b[0m\u001b[0;34m)\u001b[0m\u001b[0;34m\u001b[0m\u001b[0m\n\u001b[0;32m--> 119\u001b[0;31m     \u001b[0mfig\u001b[0m\u001b[0;34m.\u001b[0m\u001b[0mcanvas\u001b[0m\u001b[0;34m.\u001b[0m\u001b[0mprint_figure\u001b[0m\u001b[0;34m(\u001b[0m\u001b[0mbytes_io\u001b[0m\u001b[0;34m,\u001b[0m \u001b[0;34m**\u001b[0m\u001b[0mkw\u001b[0m\u001b[0;34m)\u001b[0m\u001b[0;34m\u001b[0m\u001b[0m\n\u001b[0m\u001b[1;32m    120\u001b[0m     \u001b[0mdata\u001b[0m \u001b[0;34m=\u001b[0m \u001b[0mbytes_io\u001b[0m\u001b[0;34m.\u001b[0m\u001b[0mgetvalue\u001b[0m\u001b[0;34m(\u001b[0m\u001b[0;34m)\u001b[0m\u001b[0;34m\u001b[0m\u001b[0m\n\u001b[1;32m    121\u001b[0m     \u001b[0;32mif\u001b[0m \u001b[0mfmt\u001b[0m \u001b[0;34m==\u001b[0m \u001b[0;34m'svg'\u001b[0m\u001b[0;34m:\u001b[0m\u001b[0;34m\u001b[0m\u001b[0m\n",
      "\u001b[0;32m//anaconda/lib/python3.6/site-packages/matplotlib/backend_bases.py\u001b[0m in \u001b[0;36mprint_figure\u001b[0;34m(self, filename, dpi, facecolor, edgecolor, orientation, format, **kwargs)\u001b[0m\n\u001b[1;32m   2190\u001b[0m                     \u001b[0morientation\u001b[0m\u001b[0;34m=\u001b[0m\u001b[0morientation\u001b[0m\u001b[0;34m,\u001b[0m\u001b[0;34m\u001b[0m\u001b[0m\n\u001b[1;32m   2191\u001b[0m                     \u001b[0mdryrun\u001b[0m\u001b[0;34m=\u001b[0m\u001b[0;32mTrue\u001b[0m\u001b[0;34m,\u001b[0m\u001b[0;34m\u001b[0m\u001b[0m\n\u001b[0;32m-> 2192\u001b[0;31m                     **kwargs)\n\u001b[0m\u001b[1;32m   2193\u001b[0m                 \u001b[0mrenderer\u001b[0m \u001b[0;34m=\u001b[0m \u001b[0mself\u001b[0m\u001b[0;34m.\u001b[0m\u001b[0mfigure\u001b[0m\u001b[0;34m.\u001b[0m\u001b[0m_cachedRenderer\u001b[0m\u001b[0;34m\u001b[0m\u001b[0m\n\u001b[1;32m   2194\u001b[0m                 \u001b[0mbbox_inches\u001b[0m \u001b[0;34m=\u001b[0m \u001b[0mself\u001b[0m\u001b[0;34m.\u001b[0m\u001b[0mfigure\u001b[0m\u001b[0;34m.\u001b[0m\u001b[0mget_tightbbox\u001b[0m\u001b[0;34m(\u001b[0m\u001b[0mrenderer\u001b[0m\u001b[0;34m)\u001b[0m\u001b[0;34m\u001b[0m\u001b[0m\n",
      "\u001b[0;32m//anaconda/lib/python3.6/site-packages/matplotlib/backends/backend_agg.py\u001b[0m in \u001b[0;36mprint_png\u001b[0;34m(self, filename_or_obj, *args, **kwargs)\u001b[0m\n\u001b[1;32m    554\u001b[0m \u001b[0;34m\u001b[0m\u001b[0m\n\u001b[1;32m    555\u001b[0m         \u001b[0;32mtry\u001b[0m\u001b[0;34m:\u001b[0m\u001b[0;34m\u001b[0m\u001b[0m\n\u001b[0;32m--> 556\u001b[0;31m             \u001b[0m_png\u001b[0m\u001b[0;34m.\u001b[0m\u001b[0mwrite_png\u001b[0m\u001b[0;34m(\u001b[0m\u001b[0mrenderer\u001b[0m\u001b[0;34m.\u001b[0m\u001b[0m_renderer\u001b[0m\u001b[0;34m,\u001b[0m \u001b[0mfilename_or_obj\u001b[0m\u001b[0;34m,\u001b[0m \u001b[0mself\u001b[0m\u001b[0;34m.\u001b[0m\u001b[0mfigure\u001b[0m\u001b[0;34m.\u001b[0m\u001b[0mdpi\u001b[0m\u001b[0;34m)\u001b[0m\u001b[0;34m\u001b[0m\u001b[0m\n\u001b[0m\u001b[1;32m    557\u001b[0m         \u001b[0;32mfinally\u001b[0m\u001b[0;34m:\u001b[0m\u001b[0;34m\u001b[0m\u001b[0m\n\u001b[1;32m    558\u001b[0m             \u001b[0;32mif\u001b[0m \u001b[0mclose\u001b[0m\u001b[0;34m:\u001b[0m\u001b[0;34m\u001b[0m\u001b[0m\n",
      "\u001b[0;31mKeyboardInterrupt\u001b[0m: "
     ]
    }
   ],
   "source": [
    "test_rfr = RandomForestRegressor(n_estimators=100, n_jobs=-1)\n",
    "run_regression_model(x_train, x_test, y_train, y_test, test_rfr)"
   ]
  },
  {
   "cell_type": "code",
   "execution_count": 310,
   "metadata": {
    "collapsed": true
   },
   "outputs": [],
   "source": [
    "rf = RandomForestClassifier(n_estimators=100, max_depth=18)\n",
    "et = ExtraTreesClassifier(n_estimators=100, max_depth=18)  ### doing the best out of the box!!!!\n",
    "gb = GradientBoostingClassifier()\n",
    "xgb = XGBClassifier(n_estimators=100, silent=False, max_depth=20, reg_lambda=50, reg_alpha=.01)\n",
    "\n",
    "### ideal probability threshold for extra trees model is 0.2 --> need to optimize for final model!!!\n",
    "\n",
    "vc = VotingClassifier([('rf', rf), ('et', et), ('gb', gb)], n_jobs=-1)\n",
    "vc_soft = VotingClassifier([('rf', rf), ('et', et), ('gb', gb)], voting='soft', n_jobs=-1)\n",
    "\n",
    "\n",
    "class_models = [vc, vc_soft]\n",
    "\n",
    "threshold_list = [.5]"
   ]
  },
  {
   "cell_type": "code",
   "execution_count": 333,
   "metadata": {
    "scrolled": false
   },
   "outputs": [
    {
     "name": "stdout",
     "output_type": "stream",
     "text": [
      "VotingClassifier(estimators=[('rf', RandomForestClassifier(bootstrap=True, class_weight=None, criterion='gini',\n",
      "            max_depth=18, max_features='auto', max_leaf_nodes=None,\n",
      "            min_impurity_split=1e-07, min_samples_leaf=1,\n",
      "            min_samples_split=2, min_weight_fraction_leaf=0.0,\n",
      "            n_es...=100, presort='auto', random_state=None,\n",
      "              subsample=1.0, verbose=0, warm_start=False))],\n",
      "         n_jobs=-1, voting='hard', weights=None)\n",
      "Base model score: 0.9548\n",
      "Training set score:  0.9209\n",
      "Test set score:  0.6988\n",
      "\n",
      "Confusion Matrix:\n",
      "       predicted_0  predicted_1  predicted_2\n",
      "is_0          632          186           36\n",
      "is_1          160          576          169\n",
      "is_2           33          169          539\n",
      "\n",
      "Classification Report:\n",
      "              precision    recall  f1-score   support\n",
      "\n",
      "          0       0.77      0.74      0.75       854\n",
      "          1       0.62      0.64      0.63       905\n",
      "          2       0.72      0.73      0.73       741\n",
      "\n",
      "avg / total       0.70      0.70      0.70      2500\n",
      "\n",
      "VotingClassifier(estimators=[('rf', RandomForestClassifier(bootstrap=True, class_weight=None, criterion='gini',\n",
      "            max_depth=18, max_features='auto', max_leaf_nodes=None,\n",
      "            min_impurity_split=1e-07, min_samples_leaf=1,\n",
      "            min_samples_split=2, min_weight_fraction_leaf=0.0,\n",
      "            n_es...=100, presort='auto', random_state=None,\n",
      "              subsample=1.0, verbose=0, warm_start=False))],\n",
      "         n_jobs=-1, voting='soft', weights=None)\n",
      "Base model score: 0.9548\n",
      "Training set score:  0.9097\n",
      "Test set score:  0.6952\n",
      "\n",
      "Confusion Matrix:\n",
      "       predicted_0  predicted_1  predicted_2\n",
      "is_0          630          188           36\n",
      "is_1          163          565          177\n",
      "is_2           27          171          543\n",
      "\n",
      "Classification Report:\n",
      "              precision    recall  f1-score   support\n",
      "\n",
      "          0       0.77      0.74      0.75       854\n",
      "          1       0.61      0.62      0.62       905\n",
      "          2       0.72      0.73      0.73       741\n",
      "\n",
      "avg / total       0.70      0.70      0.70      2500\n",
      "\n"
     ]
    }
   ],
   "source": [
    "for model in class_models:\n",
    "    run_model(x_train, x_test, y_train, y_test, model)"
   ]
  },
  {
   "cell_type": "code",
   "execution_count": 332,
   "metadata": {
    "collapsed": true
   },
   "outputs": [
    {
     "name": "stdout",
     "output_type": "stream",
     "text": [
      "VotingClassifier(estimators=[('rf', RandomForestClassifier(bootstrap=True, class_weight=None, criterion='gini',\n",
      "            max_depth=18, max_features='auto', max_leaf_nodes=None,\n",
      "            min_impurity_split=1e-07, min_samples_leaf=1,\n",
      "            min_samples_split=2, min_weight_fraction_leaf=0.0,\n",
      "            n_es...=100, presort='auto', random_state=None,\n",
      "              subsample=1.0, verbose=0, warm_start=False))],\n",
      "         n_jobs=-1, voting='hard', weights=None)\n",
      "Training set score:  0.9209\n",
      "Test set score:  0.6988\n"
     ]
    },
    {
     "ename": "AttributeError",
     "evalue": "predict_proba is not available when voting='hard'",
     "output_type": "error",
     "traceback": [
      "\u001b[0;31m---------------------------------------------------------------------------\u001b[0m",
      "\u001b[0;31mAttributeError\u001b[0m                            Traceback (most recent call last)",
      "\u001b[0;32m<ipython-input-332-eae42f6204ef>\u001b[0m in \u001b[0;36m<module>\u001b[0;34m()\u001b[0m\n\u001b[1;32m      1\u001b[0m \u001b[0;32mfor\u001b[0m \u001b[0mmodel\u001b[0m \u001b[0;32min\u001b[0m \u001b[0mclass_models\u001b[0m\u001b[0;34m:\u001b[0m\u001b[0;34m\u001b[0m\u001b[0m\n\u001b[0;32m----> 2\u001b[0;31m     \u001b[0mrun_threshold_classifier\u001b[0m\u001b[0;34m(\u001b[0m\u001b[0mx_train\u001b[0m\u001b[0;34m,\u001b[0m \u001b[0mx_test\u001b[0m\u001b[0;34m,\u001b[0m \u001b[0my_train\u001b[0m\u001b[0;34m,\u001b[0m \u001b[0my_test\u001b[0m\u001b[0;34m,\u001b[0m \u001b[0mmodel\u001b[0m\u001b[0;34m,\u001b[0m \u001b[0mthreshold_list\u001b[0m\u001b[0;34m)\u001b[0m\u001b[0;34m\u001b[0m\u001b[0m\n\u001b[0m",
      "\u001b[0;32m<ipython-input-133-bc065feedb5a>\u001b[0m in \u001b[0;36mrun_threshold_classifier\u001b[0;34m(x_train, x_test, y_train, y_test, model, threshold_list)\u001b[0m\n\u001b[1;32m     16\u001b[0m     \u001b[0mprint\u001b[0m\u001b[0;34m(\u001b[0m\u001b[0;34m\"Training set score: \"\u001b[0m\u001b[0;34m,\u001b[0m \u001b[0mstr\u001b[0m\u001b[0;34m(\u001b[0m\u001b[0mmodel\u001b[0m\u001b[0;34m.\u001b[0m\u001b[0mscore\u001b[0m\u001b[0;34m(\u001b[0m\u001b[0mx_train\u001b[0m\u001b[0;34m,\u001b[0m \u001b[0my_train\u001b[0m\u001b[0;34m)\u001b[0m\u001b[0;34m)\u001b[0m\u001b[0;34m[\u001b[0m\u001b[0;34m:\u001b[0m\u001b[0;36m6\u001b[0m\u001b[0;34m]\u001b[0m\u001b[0;34m)\u001b[0m\u001b[0;34m\u001b[0m\u001b[0m\n\u001b[1;32m     17\u001b[0m     \u001b[0mprint\u001b[0m\u001b[0;34m(\u001b[0m\u001b[0;34m\"Test set score: \"\u001b[0m\u001b[0;34m,\u001b[0m \u001b[0mstr\u001b[0m\u001b[0;34m(\u001b[0m\u001b[0mmodel\u001b[0m\u001b[0;34m.\u001b[0m\u001b[0mscore\u001b[0m\u001b[0;34m(\u001b[0m\u001b[0mx_test\u001b[0m\u001b[0;34m,\u001b[0m \u001b[0my_test\u001b[0m\u001b[0;34m)\u001b[0m\u001b[0;34m)\u001b[0m\u001b[0;34m[\u001b[0m\u001b[0;34m:\u001b[0m\u001b[0;36m6\u001b[0m\u001b[0;34m]\u001b[0m\u001b[0;34m)\u001b[0m\u001b[0;34m\u001b[0m\u001b[0m\n\u001b[0;32m---> 18\u001b[0;31m     \u001b[0mprobabilities\u001b[0m \u001b[0;34m=\u001b[0m \u001b[0mmodel\u001b[0m\u001b[0;34m.\u001b[0m\u001b[0mpredict_proba\u001b[0m\u001b[0;34m(\u001b[0m\u001b[0mx_test\u001b[0m\u001b[0;34m)\u001b[0m\u001b[0;34m\u001b[0m\u001b[0m\n\u001b[0m\u001b[1;32m     19\u001b[0m     \u001b[0mprint\u001b[0m\u001b[0;34m(\u001b[0m\u001b[0mprobabilities\u001b[0m\u001b[0;34m)\u001b[0m\u001b[0;34m\u001b[0m\u001b[0m\n\u001b[1;32m     20\u001b[0m     \u001b[0mthresholds\u001b[0m \u001b[0;34m=\u001b[0m \u001b[0mthreshold_list\u001b[0m\u001b[0;34m\u001b[0m\u001b[0m\n",
      "\u001b[0;32m//anaconda/lib/python3.6/site-packages/sklearn/ensemble/voting_classifier.py\u001b[0m in \u001b[0;36m_predict_proba\u001b[0;34m(self, X)\u001b[0m\n\u001b[1;32m    206\u001b[0m         \u001b[0;32mif\u001b[0m \u001b[0mself\u001b[0m\u001b[0;34m.\u001b[0m\u001b[0mvoting\u001b[0m \u001b[0;34m==\u001b[0m \u001b[0;34m'hard'\u001b[0m\u001b[0;34m:\u001b[0m\u001b[0;34m\u001b[0m\u001b[0m\n\u001b[1;32m    207\u001b[0m             raise AttributeError(\"predict_proba is not available when\"\n\u001b[0;32m--> 208\u001b[0;31m                                  \" voting=%r\" % self.voting)\n\u001b[0m\u001b[1;32m    209\u001b[0m         \u001b[0mcheck_is_fitted\u001b[0m\u001b[0;34m(\u001b[0m\u001b[0mself\u001b[0m\u001b[0;34m,\u001b[0m \u001b[0;34m'estimators_'\u001b[0m\u001b[0;34m)\u001b[0m\u001b[0;34m\u001b[0m\u001b[0m\n\u001b[1;32m    210\u001b[0m         \u001b[0mavg\u001b[0m \u001b[0;34m=\u001b[0m \u001b[0mnp\u001b[0m\u001b[0;34m.\u001b[0m\u001b[0maverage\u001b[0m\u001b[0;34m(\u001b[0m\u001b[0mself\u001b[0m\u001b[0;34m.\u001b[0m\u001b[0m_collect_probas\u001b[0m\u001b[0;34m(\u001b[0m\u001b[0mX\u001b[0m\u001b[0;34m)\u001b[0m\u001b[0;34m,\u001b[0m \u001b[0maxis\u001b[0m\u001b[0;34m=\u001b[0m\u001b[0;36m0\u001b[0m\u001b[0;34m,\u001b[0m \u001b[0mweights\u001b[0m\u001b[0;34m=\u001b[0m\u001b[0mself\u001b[0m\u001b[0;34m.\u001b[0m\u001b[0mweights\u001b[0m\u001b[0;34m)\u001b[0m\u001b[0;34m\u001b[0m\u001b[0m\n",
      "\u001b[0;31mAttributeError\u001b[0m: predict_proba is not available when voting='hard'"
     ]
    }
   ],
   "source": [
    "for model in class_models:\n",
    "    run_threshold_classifier(x_train, x_test, y_train, y_test, model, threshold_list)"
   ]
  },
  {
   "cell_type": "code",
   "execution_count": 153,
   "metadata": {},
   "outputs": [
    {
     "name": "stdout",
     "output_type": "stream",
     "text": [
      "Fitting 3 folds for each of 3 candidates, totalling 9 fits\n",
      "[CV] max_depth=18 ....................................................\n",
      "[CV] ..................... max_depth=18, score=0.808195, total=   6.9s\n",
      "[CV] max_depth=18 ....................................................\n"
     ]
    },
    {
     "name": "stderr",
     "output_type": "stream",
     "text": [
      "[Parallel(n_jobs=1)]: Done   1 out of   1 | elapsed:    7.7s remaining:    0.0s\n"
     ]
    },
    {
     "name": "stdout",
     "output_type": "stream",
     "text": [
      "[CV] ..................... max_depth=18, score=0.813273, total=   6.7s\n",
      "[CV] max_depth=18 ....................................................\n"
     ]
    },
    {
     "name": "stderr",
     "output_type": "stream",
     "text": [
      "[Parallel(n_jobs=1)]: Done   2 out of   2 | elapsed:   15.2s remaining:    0.0s\n"
     ]
    },
    {
     "name": "stdout",
     "output_type": "stream",
     "text": [
      "[CV] ..................... max_depth=18, score=0.806312, total=   6.4s\n",
      "[CV] max_depth=22 ....................................................\n"
     ]
    },
    {
     "name": "stderr",
     "output_type": "stream",
     "text": [
      "[Parallel(n_jobs=1)]: Done   3 out of   3 | elapsed:   22.5s remaining:    0.0s\n"
     ]
    },
    {
     "name": "stdout",
     "output_type": "stream",
     "text": [
      "[CV] ..................... max_depth=22, score=0.811615, total=   7.4s\n",
      "[CV] max_depth=22 ....................................................\n"
     ]
    },
    {
     "name": "stderr",
     "output_type": "stream",
     "text": [
      "[Parallel(n_jobs=1)]: Done   4 out of   4 | elapsed:   30.7s remaining:    0.0s\n"
     ]
    },
    {
     "name": "stdout",
     "output_type": "stream",
     "text": [
      "[CV] ..................... max_depth=22, score=0.818013, total=   7.6s\n",
      "[CV] max_depth=22 ....................................................\n"
     ]
    },
    {
     "name": "stderr",
     "output_type": "stream",
     "text": [
      "[Parallel(n_jobs=1)]: Done   5 out of   5 | elapsed:   39.3s remaining:    0.0s\n"
     ]
    },
    {
     "name": "stdout",
     "output_type": "stream",
     "text": [
      "[CV] ..................... max_depth=22, score=0.808892, total=   7.6s\n",
      "[CV] max_depth=None ..................................................\n"
     ]
    },
    {
     "name": "stderr",
     "output_type": "stream",
     "text": [
      "[Parallel(n_jobs=1)]: Done   6 out of   6 | elapsed:   47.8s remaining:    0.0s\n"
     ]
    },
    {
     "name": "stdout",
     "output_type": "stream",
     "text": [
      "[CV] ................... max_depth=None, score=0.812455, total=   8.8s\n",
      "[CV] max_depth=None ..................................................\n"
     ]
    },
    {
     "name": "stderr",
     "output_type": "stream",
     "text": [
      "[Parallel(n_jobs=1)]: Done   7 out of   7 | elapsed:   57.7s remaining:    0.0s\n"
     ]
    },
    {
     "name": "stdout",
     "output_type": "stream",
     "text": [
      "[CV] ................... max_depth=None, score=0.819093, total=   9.6s\n",
      "[CV] max_depth=None ..................................................\n"
     ]
    },
    {
     "name": "stderr",
     "output_type": "stream",
     "text": [
      "[Parallel(n_jobs=1)]: Done   8 out of   8 | elapsed:  1.1min remaining:    0.0s\n"
     ]
    },
    {
     "name": "stdout",
     "output_type": "stream",
     "text": [
      "[CV] ................... max_depth=None, score=0.810692, total=  10.1s\n"
     ]
    },
    {
     "name": "stderr",
     "output_type": "stream",
     "text": [
      "[Parallel(n_jobs=1)]: Done   9 out of   9 | elapsed:  1.3min remaining:    0.0s\n",
      "[Parallel(n_jobs=1)]: Done   9 out of   9 | elapsed:  1.3min finished\n"
     ]
    },
    {
     "data": {
      "text/plain": [
       "GridSearchCV(cv=None, error_score='raise',\n",
       "       estimator=RandomForestClassifier(bootstrap=True, class_weight=None, criterion='gini',\n",
       "            max_depth=None, max_features='auto', max_leaf_nodes=None,\n",
       "            min_impurity_split=1e-07, min_samples_leaf=1,\n",
       "            min_samples_split=2, min_weight_fraction_leaf=0.0,\n",
       "            n_estimators=100, n_jobs=1, oob_score=False, random_state=None,\n",
       "            verbose=0, warm_start=False),\n",
       "       fit_params={}, iid=True, n_jobs=1,\n",
       "       param_grid={'max_depth': [18, 22, None]}, pre_dispatch='2*n_jobs',\n",
       "       refit=True, return_train_score=True, scoring=None, verbose=10)"
      ]
     },
     "execution_count": 153,
     "metadata": {},
     "output_type": "execute_result"
    }
   ],
   "source": [
    "params = {\n",
    "    'max_depth':[18, 22, None]\n",
    "}\n",
    "\n",
    "grid = GridSearchCV(rf, params, verbose=10)\n",
    "grid.fit(x, y)"
   ]
  },
  {
   "cell_type": "markdown",
   "metadata": {},
   "source": [
    "Pipeline--> \n",
    "- fed a dataframe\n",
    "- piped into classifier\n",
    "- classes attached to new column\n",
    "- dataframe split in 3 based on predicted class\n",
    "- each slice fed into specific regression model\n",
    "- predictions attached in new column\n",
    "- dataframes concatenated\n",
    "- predictions vs actuals scored\n"
   ]
  },
  {
   "cell_type": "code",
   "execution_count": 86,
   "metadata": {},
   "outputs": [
    {
     "name": "stdout",
     "output_type": "stream",
     "text": [
      "r^2 on Test Set: 0.724301547088\n",
      "Mean Absolute Error on Test Set: 0.121300068571\n",
      "Mean Squared Error on Test Set: 0.0354353125398\n"
     ]
    },
    {
     "data": {
      "image/png": "[encoded data removed]",
      "text/plain": [
       "<matplotlib.figure.Figure at 0x1455c9b70>"
      ]
     },
     "metadata": {},
     "output_type": "display_data"
    },
    {
     "data": {
      "text/plain": [
       "<matplotlib.figure.Figure at 0x135f63dd8>"
      ]
     },
     "metadata": {},
     "output_type": "display_data"
    }
   ],
   "source": [
    "frames = [lil_highs, lil_meds, lil_lows]\n",
    "final_frame = pd.concat(frames)\n",
    "actuals = final_frame['rating']\n",
    "predictions = final_frame['predicted_rating']\n",
    "print(\"r^2 on Test Set:\", r2_score(actuals, predictions))\n",
    "print(\"Mean Absolute Error on Test Set:\", mean_absolute_error(actuals, predictions))\n",
    "print(\"Mean Squared Error on Test Set:\", mean_squared_error(actuals, predictions))\n",
    "plt.scatter(actuals, predictions)\n",
    "plt.ylabel('Predicted Score')\n",
    "plt.xlabel('Actual Score')\n",
    "plt.plot([0, 5], [0, 5])\n",
    "plt.show()\n",
    "plt.clf()"
   ]
  },
  {
   "cell_type": "markdown",
   "metadata": {},
   "source": [
    "# Pickling"
   ]
  },
  {
   "cell_type": "code",
   "execution_count": 110,
   "metadata": {
    "collapsed": true
   },
   "outputs": [],
   "source": [
    "from sklearn.externals import joblib"
   ]
  },
  {
   "cell_type": "code",
   "execution_count": 334,
   "metadata": {},
   "outputs": [
    {
     "data": {
      "text/plain": [
       "['data/pickle_jar/stratified_regressor.pkl']"
      ]
     },
     "execution_count": 334,
     "metadata": {},
     "output_type": "execute_result"
    }
   ],
   "source": [
    "dataframe = lil_df\n",
    "class_model = vc_soft\n",
    "low_model = low_model\n",
    "mid_model = mid_model\n",
    "high_model = high_model\n",
    "\n",
    "stratified_regressor = test_rfr\n",
    "\n",
    "joblib.dump(class_model, 'data/pickle_jar/classifier.pkl')\n",
    "joblib.dump(low_model, 'data/pickle_jar/low_model.pkl')\n",
    "joblib.dump(mid_model, 'data/pickle_jar/mid_model.pkl')\n",
    "joblib.dump(high_model, 'data/pickle_jar/high_model.pkl')\n",
    "joblib.dump(stratified_regressor, 'data/pickle_jar/stratified_regressor.pkl')"
   ]
  },
  {
   "cell_type": "code",
   "execution_count": null,
   "metadata": {
    "collapsed": true
   },
   "outputs": [],
   "source": []
  }
 ],
 "metadata": {
  "kernelspec": {
   "display_name": "Python 3",
   "language": "python",
   "name": "python3"
  },
  "language_info": {
   "codemirror_mode": {
    "name": "ipython",
    "version": 3
   },
   "file_extension": ".py",
   "mimetype": "text/x-python",
   "name": "python",
   "nbconvert_exporter": "python",
   "pygments_lexer": "ipython3",
   "version": "3.6.0"
  }
 },
 "nbformat": 4,
 "nbformat_minor": 2
}
